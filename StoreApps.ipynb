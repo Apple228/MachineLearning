{
  "cells": [
    {
      "cell_type": "markdown",
      "metadata": {
        "id": "Yg8qMvaBSt6G"
      },
      "source": [
        "## Постановка задачи:\n",
        "\n",
        "От нас требуется ознакомиться с выбранным dataset-ом, визуализировать эти данные, вычислить основные характеристики (среднее, разброс, корреляционную матрицу и т.д.), а также, осуществить \"препроцессинг\" данных и решить задачу классификации.\n",
        "\n",
        "Датасет содержит ряд признаков приложений с сервера Google Play. Целью является определить, платное приложение или нет."
      ]
    },
    {
      "cell_type": "markdown",
      "metadata": {
        "id": "jnbxBCQlSt6J"
      },
      "source": [
        "Установливаем библиотеку Pandas:"
      ]
    },
    {
      "cell_type": "code",
      "execution_count": 158,
      "metadata": {
        "colab": {
          "base_uri": "https://localhost:8080/"
        },
        "id": "OS2uGoS3St6K",
        "outputId": "51ba561d-1afe-4ce5-9a44-9ee30a227d4a"
      },
      "outputs": [
        {
          "name": "stdout",
          "output_type": "stream",
          "text": [
            "Defaulting to user installation because normal site-packages is not writeable\n",
            "Requirement already satisfied: pandas in c:\\program files\\python310\\lib\\site-packages (1.5.2)\n",
            "Requirement already satisfied: python-dateutil>=2.8.1 in c:\\users\\nick\\appdata\\roaming\\python\\python310\\site-packages (from pandas) (2.8.2)\n",
            "Requirement already satisfied: numpy>=1.21.0 in c:\\program files\\python310\\lib\\site-packages (from pandas) (1.24.0)\n",
            "Requirement already satisfied: pytz>=2020.1 in c:\\program files\\python310\\lib\\site-packages (from pandas) (2022.7)\n",
            "Requirement already satisfied: six>=1.5 in c:\\users\\nick\\appdata\\roaming\\python\\python310\\site-packages (from python-dateutil>=2.8.1->pandas) (1.16.0)\n"
          ]
        },
        {
          "name": "stderr",
          "output_type": "stream",
          "text": [
            "\n",
            "[notice] A new release of pip available: 22.2.1 -> 22.3.1\n",
            "[notice] To update, run: python.exe -m pip install --upgrade pip\n"
          ]
        }
      ],
      "source": [
        "! pip install pandas"
      ]
    },
    {
      "cell_type": "markdown",
      "metadata": {
        "id": "4odpORZdSt6K"
      },
      "source": [
        "Импортируем необходимые модули:"
      ]
    },
    {
      "cell_type": "code",
      "execution_count": 159,
      "metadata": {
        "id": "sFCupSnxSt6L"
      },
      "outputs": [],
      "source": [
        "import numpy as np\n",
        "import matplotlib.pyplot as plt\n",
        "import pandas as pd\n",
        "%matplotlib inline"
      ]
    },
    {
      "cell_type": "markdown",
      "metadata": {
        "id": "cjuv8w5sSt6L"
      },
      "source": [
        "## Знакомимся с dataset-ом"
      ]
    },
    {
      "cell_type": "markdown",
      "metadata": {
        "id": "Lqef5ST7St6L"
      },
      "source": [
        "Считываем dataset и выводим его содержимое, для наглядности, на экран:"
      ]
    },
    {
      "cell_type": "code",
      "execution_count": 160,
      "metadata": {
        "colab": {
          "base_uri": "https://localhost:8080/",
          "height": 624
        },
        "id": "PTLrr5rbSt6M",
        "outputId": "92b38e88-1b5b-4c56-9d7b-e64d662baf2b"
      },
      "outputs": [
        {
          "data": {
            "text/html": [
              "<div>\n",
              "<style scoped>\n",
              "    .dataframe tbody tr th:only-of-type {\n",
              "        vertical-align: middle;\n",
              "    }\n",
              "\n",
              "    .dataframe tbody tr th {\n",
              "        vertical-align: top;\n",
              "    }\n",
              "\n",
              "    .dataframe thead th {\n",
              "        text-align: right;\n",
              "    }\n",
              "</style>\n",
              "<table border=\"1\" class=\"dataframe\">\n",
              "  <thead>\n",
              "    <tr style=\"text-align: right;\">\n",
              "      <th></th>\n",
              "      <th>App</th>\n",
              "      <th>Category</th>\n",
              "      <th>Rating</th>\n",
              "      <th>Reviews</th>\n",
              "      <th>Size</th>\n",
              "      <th>Installs</th>\n",
              "      <th>Type</th>\n",
              "      <th>Price</th>\n",
              "      <th>Content Rating</th>\n",
              "      <th>Genres</th>\n",
              "      <th>Last Updated</th>\n",
              "      <th>Current Ver</th>\n",
              "      <th>Android Ver</th>\n",
              "    </tr>\n",
              "  </thead>\n",
              "  <tbody>\n",
              "    <tr>\n",
              "      <th>0</th>\n",
              "      <td>Photo Editor &amp; Candy Camera &amp; Grid &amp; ScrapBook</td>\n",
              "      <td>ART_AND_DESIGN</td>\n",
              "      <td>4.1</td>\n",
              "      <td>159</td>\n",
              "      <td>19M</td>\n",
              "      <td>10,000+</td>\n",
              "      <td>Free</td>\n",
              "      <td>0</td>\n",
              "      <td>Everyone</td>\n",
              "      <td>Art &amp; Design</td>\n",
              "      <td>January 7, 2018</td>\n",
              "      <td>1.0.0</td>\n",
              "      <td>4.0.3 and up</td>\n",
              "    </tr>\n",
              "    <tr>\n",
              "      <th>1</th>\n",
              "      <td>Coloring book moana</td>\n",
              "      <td>ART_AND_DESIGN</td>\n",
              "      <td>3.9</td>\n",
              "      <td>967</td>\n",
              "      <td>14M</td>\n",
              "      <td>500,000+</td>\n",
              "      <td>Free</td>\n",
              "      <td>0</td>\n",
              "      <td>Everyone</td>\n",
              "      <td>Art &amp; Design;Pretend Play</td>\n",
              "      <td>January 15, 2018</td>\n",
              "      <td>2.0.0</td>\n",
              "      <td>4.0.3 and up</td>\n",
              "    </tr>\n",
              "    <tr>\n",
              "      <th>2</th>\n",
              "      <td>U Launcher Lite – FREE Live Cool Themes, Hide ...</td>\n",
              "      <td>ART_AND_DESIGN</td>\n",
              "      <td>4.7</td>\n",
              "      <td>87510</td>\n",
              "      <td>8.7M</td>\n",
              "      <td>5,000,000+</td>\n",
              "      <td>Free</td>\n",
              "      <td>0</td>\n",
              "      <td>Everyone</td>\n",
              "      <td>Art &amp; Design</td>\n",
              "      <td>August 1, 2018</td>\n",
              "      <td>1.2.4</td>\n",
              "      <td>4.0.3 and up</td>\n",
              "    </tr>\n",
              "    <tr>\n",
              "      <th>3</th>\n",
              "      <td>Sketch - Draw &amp; Paint</td>\n",
              "      <td>ART_AND_DESIGN</td>\n",
              "      <td>4.5</td>\n",
              "      <td>215644</td>\n",
              "      <td>25M</td>\n",
              "      <td>50,000,000+</td>\n",
              "      <td>Free</td>\n",
              "      <td>0</td>\n",
              "      <td>Teen</td>\n",
              "      <td>Art &amp; Design</td>\n",
              "      <td>June 8, 2018</td>\n",
              "      <td>Varies with device</td>\n",
              "      <td>4.2 and up</td>\n",
              "    </tr>\n",
              "    <tr>\n",
              "      <th>4</th>\n",
              "      <td>Pixel Draw - Number Art Coloring Book</td>\n",
              "      <td>ART_AND_DESIGN</td>\n",
              "      <td>4.3</td>\n",
              "      <td>967</td>\n",
              "      <td>2.8M</td>\n",
              "      <td>100,000+</td>\n",
              "      <td>Free</td>\n",
              "      <td>0</td>\n",
              "      <td>Everyone</td>\n",
              "      <td>Art &amp; Design;Creativity</td>\n",
              "      <td>June 20, 2018</td>\n",
              "      <td>1.1</td>\n",
              "      <td>4.4 and up</td>\n",
              "    </tr>\n",
              "    <tr>\n",
              "      <th>...</th>\n",
              "      <td>...</td>\n",
              "      <td>...</td>\n",
              "      <td>...</td>\n",
              "      <td>...</td>\n",
              "      <td>...</td>\n",
              "      <td>...</td>\n",
              "      <td>...</td>\n",
              "      <td>...</td>\n",
              "      <td>...</td>\n",
              "      <td>...</td>\n",
              "      <td>...</td>\n",
              "      <td>...</td>\n",
              "      <td>...</td>\n",
              "    </tr>\n",
              "    <tr>\n",
              "      <th>10836</th>\n",
              "      <td>Sya9a Maroc - FR</td>\n",
              "      <td>FAMILY</td>\n",
              "      <td>4.5</td>\n",
              "      <td>38</td>\n",
              "      <td>53M</td>\n",
              "      <td>5,000+</td>\n",
              "      <td>Free</td>\n",
              "      <td>0</td>\n",
              "      <td>Everyone</td>\n",
              "      <td>Education</td>\n",
              "      <td>July 25, 2017</td>\n",
              "      <td>1.48</td>\n",
              "      <td>4.1 and up</td>\n",
              "    </tr>\n",
              "    <tr>\n",
              "      <th>10837</th>\n",
              "      <td>Fr. Mike Schmitz Audio Teachings</td>\n",
              "      <td>FAMILY</td>\n",
              "      <td>5.0</td>\n",
              "      <td>4</td>\n",
              "      <td>3.6M</td>\n",
              "      <td>100+</td>\n",
              "      <td>Free</td>\n",
              "      <td>0</td>\n",
              "      <td>Everyone</td>\n",
              "      <td>Education</td>\n",
              "      <td>July 6, 2018</td>\n",
              "      <td>1.0</td>\n",
              "      <td>4.1 and up</td>\n",
              "    </tr>\n",
              "    <tr>\n",
              "      <th>10838</th>\n",
              "      <td>Parkinson Exercices FR</td>\n",
              "      <td>MEDICAL</td>\n",
              "      <td>NaN</td>\n",
              "      <td>3</td>\n",
              "      <td>9.5M</td>\n",
              "      <td>1,000+</td>\n",
              "      <td>Free</td>\n",
              "      <td>0</td>\n",
              "      <td>Everyone</td>\n",
              "      <td>Medical</td>\n",
              "      <td>January 20, 2017</td>\n",
              "      <td>1.0</td>\n",
              "      <td>2.2 and up</td>\n",
              "    </tr>\n",
              "    <tr>\n",
              "      <th>10839</th>\n",
              "      <td>The SCP Foundation DB fr nn5n</td>\n",
              "      <td>BOOKS_AND_REFERENCE</td>\n",
              "      <td>4.5</td>\n",
              "      <td>114</td>\n",
              "      <td>Varies with device</td>\n",
              "      <td>1,000+</td>\n",
              "      <td>Free</td>\n",
              "      <td>0</td>\n",
              "      <td>Mature 17+</td>\n",
              "      <td>Books &amp; Reference</td>\n",
              "      <td>January 19, 2015</td>\n",
              "      <td>Varies with device</td>\n",
              "      <td>Varies with device</td>\n",
              "    </tr>\n",
              "    <tr>\n",
              "      <th>10840</th>\n",
              "      <td>iHoroscope - 2018 Daily Horoscope &amp; Astrology</td>\n",
              "      <td>LIFESTYLE</td>\n",
              "      <td>4.5</td>\n",
              "      <td>398307</td>\n",
              "      <td>19M</td>\n",
              "      <td>10,000,000+</td>\n",
              "      <td>Free</td>\n",
              "      <td>0</td>\n",
              "      <td>Everyone</td>\n",
              "      <td>Lifestyle</td>\n",
              "      <td>July 25, 2018</td>\n",
              "      <td>Varies with device</td>\n",
              "      <td>Varies with device</td>\n",
              "    </tr>\n",
              "  </tbody>\n",
              "</table>\n",
              "<p>10841 rows × 13 columns</p>\n",
              "</div>"
            ],
            "text/plain": [
              "                                                     App             Category  \\\n",
              "0         Photo Editor & Candy Camera & Grid & ScrapBook       ART_AND_DESIGN   \n",
              "1                                    Coloring book moana       ART_AND_DESIGN   \n",
              "2      U Launcher Lite – FREE Live Cool Themes, Hide ...       ART_AND_DESIGN   \n",
              "3                                  Sketch - Draw & Paint       ART_AND_DESIGN   \n",
              "4                  Pixel Draw - Number Art Coloring Book       ART_AND_DESIGN   \n",
              "...                                                  ...                  ...   \n",
              "10836                                   Sya9a Maroc - FR               FAMILY   \n",
              "10837                   Fr. Mike Schmitz Audio Teachings               FAMILY   \n",
              "10838                             Parkinson Exercices FR              MEDICAL   \n",
              "10839                      The SCP Foundation DB fr nn5n  BOOKS_AND_REFERENCE   \n",
              "10840      iHoroscope - 2018 Daily Horoscope & Astrology            LIFESTYLE   \n",
              "\n",
              "       Rating Reviews                Size     Installs  Type Price  \\\n",
              "0         4.1     159                 19M      10,000+  Free     0   \n",
              "1         3.9     967                 14M     500,000+  Free     0   \n",
              "2         4.7   87510                8.7M   5,000,000+  Free     0   \n",
              "3         4.5  215644                 25M  50,000,000+  Free     0   \n",
              "4         4.3     967                2.8M     100,000+  Free     0   \n",
              "...       ...     ...                 ...          ...   ...   ...   \n",
              "10836     4.5      38                 53M       5,000+  Free     0   \n",
              "10837     5.0       4                3.6M         100+  Free     0   \n",
              "10838     NaN       3                9.5M       1,000+  Free     0   \n",
              "10839     4.5     114  Varies with device       1,000+  Free     0   \n",
              "10840     4.5  398307                 19M  10,000,000+  Free     0   \n",
              "\n",
              "      Content Rating                     Genres      Last Updated  \\\n",
              "0           Everyone               Art & Design   January 7, 2018   \n",
              "1           Everyone  Art & Design;Pretend Play  January 15, 2018   \n",
              "2           Everyone               Art & Design    August 1, 2018   \n",
              "3               Teen               Art & Design      June 8, 2018   \n",
              "4           Everyone    Art & Design;Creativity     June 20, 2018   \n",
              "...              ...                        ...               ...   \n",
              "10836       Everyone                  Education     July 25, 2017   \n",
              "10837       Everyone                  Education      July 6, 2018   \n",
              "10838       Everyone                    Medical  January 20, 2017   \n",
              "10839     Mature 17+          Books & Reference  January 19, 2015   \n",
              "10840       Everyone                  Lifestyle     July 25, 2018   \n",
              "\n",
              "              Current Ver         Android Ver  \n",
              "0                   1.0.0        4.0.3 and up  \n",
              "1                   2.0.0        4.0.3 and up  \n",
              "2                   1.2.4        4.0.3 and up  \n",
              "3      Varies with device          4.2 and up  \n",
              "4                     1.1          4.4 and up  \n",
              "...                   ...                 ...  \n",
              "10836                1.48          4.1 and up  \n",
              "10837                 1.0          4.1 and up  \n",
              "10838                 1.0          2.2 and up  \n",
              "10839  Varies with device  Varies with device  \n",
              "10840  Varies with device  Varies with device  \n",
              "\n",
              "[10841 rows x 13 columns]"
            ]
          },
          "execution_count": 160,
          "metadata": {},
          "output_type": "execute_result"
        }
      ],
      "source": [
        "data = pd.read_csv('googleplaystore.csv')\n",
        "\n",
        "data"
      ]
    },
    {
      "cell_type": "markdown",
      "metadata": {
        "id": "pakuZ-37St6M"
      },
      "source": [
        "Выводим первые 10 строк dataset-а:"
      ]
    },
    {
      "cell_type": "code",
      "execution_count": 181,
      "metadata": {
        "colab": {
          "base_uri": "https://localhost:8080/",
          "height": 511
        },
        "id": "GQV2BVHqSt6N",
        "outputId": "7f57762f-5a26-42e0-f0c1-76167012f4bb"
      },
      "outputs": [
        {
          "data": {
            "text/html": [
              "<div>\n",
              "<style scoped>\n",
              "    .dataframe tbody tr th:only-of-type {\n",
              "        vertical-align: middle;\n",
              "    }\n",
              "\n",
              "    .dataframe tbody tr th {\n",
              "        vertical-align: top;\n",
              "    }\n",
              "\n",
              "    .dataframe thead th {\n",
              "        text-align: right;\n",
              "    }\n",
              "</style>\n",
              "<table border=\"1\" class=\"dataframe\">\n",
              "  <thead>\n",
              "    <tr style=\"text-align: right;\">\n",
              "      <th></th>\n",
              "      <th>App</th>\n",
              "      <th>Category</th>\n",
              "      <th>Rating</th>\n",
              "      <th>Reviews</th>\n",
              "      <th>Size</th>\n",
              "      <th>Installs</th>\n",
              "      <th>Type</th>\n",
              "      <th>Price</th>\n",
              "      <th>Content Rating</th>\n",
              "      <th>Genres</th>\n",
              "      <th>Last Updated</th>\n",
              "      <th>Current Ver</th>\n",
              "      <th>Android Ver</th>\n",
              "    </tr>\n",
              "  </thead>\n",
              "  <tbody>\n",
              "    <tr>\n",
              "      <th>0</th>\n",
              "      <td>Photo Editor &amp; Candy Camera &amp; Grid &amp; ScrapBook</td>\n",
              "      <td>ART_AND_DESIGN</td>\n",
              "      <td>4.1</td>\n",
              "      <td>159</td>\n",
              "      <td>19M</td>\n",
              "      <td>10000+</td>\n",
              "      <td>Free</td>\n",
              "      <td>0</td>\n",
              "      <td>Everyone</td>\n",
              "      <td>Art &amp; Design</td>\n",
              "      <td>January 7 2018</td>\n",
              "      <td>1.0.0</td>\n",
              "      <td>4.0.3 and up</td>\n",
              "    </tr>\n",
              "    <tr>\n",
              "      <th>1</th>\n",
              "      <td>Coloring book moana</td>\n",
              "      <td>ART_AND_DESIGN</td>\n",
              "      <td>3.9</td>\n",
              "      <td>967</td>\n",
              "      <td>14M</td>\n",
              "      <td>500000+</td>\n",
              "      <td>Free</td>\n",
              "      <td>0</td>\n",
              "      <td>Everyone</td>\n",
              "      <td>Art &amp; Design;Pretend Play</td>\n",
              "      <td>January 15 2018</td>\n",
              "      <td>2.0.0</td>\n",
              "      <td>4.0.3 and up</td>\n",
              "    </tr>\n",
              "    <tr>\n",
              "      <th>2</th>\n",
              "      <td>U Launcher Lite – FREE Live Cool Themes Hide Apps</td>\n",
              "      <td>ART_AND_DESIGN</td>\n",
              "      <td>4.7</td>\n",
              "      <td>87510</td>\n",
              "      <td>8.7M</td>\n",
              "      <td>5000000+</td>\n",
              "      <td>Free</td>\n",
              "      <td>0</td>\n",
              "      <td>Everyone</td>\n",
              "      <td>Art &amp; Design</td>\n",
              "      <td>August 1 2018</td>\n",
              "      <td>1.2.4</td>\n",
              "      <td>4.0.3 and up</td>\n",
              "    </tr>\n",
              "    <tr>\n",
              "      <th>3</th>\n",
              "      <td>Sketch - Draw &amp; Paint</td>\n",
              "      <td>ART_AND_DESIGN</td>\n",
              "      <td>4.5</td>\n",
              "      <td>215644</td>\n",
              "      <td>25M</td>\n",
              "      <td>50000000+</td>\n",
              "      <td>Free</td>\n",
              "      <td>0</td>\n",
              "      <td>Teen</td>\n",
              "      <td>Art &amp; Design</td>\n",
              "      <td>June 8 2018</td>\n",
              "      <td>Varies with device</td>\n",
              "      <td>4.2 and up</td>\n",
              "    </tr>\n",
              "    <tr>\n",
              "      <th>4</th>\n",
              "      <td>Pixel Draw - Number Art Coloring Book</td>\n",
              "      <td>ART_AND_DESIGN</td>\n",
              "      <td>4.3</td>\n",
              "      <td>967</td>\n",
              "      <td>2.8M</td>\n",
              "      <td>100000+</td>\n",
              "      <td>Free</td>\n",
              "      <td>0</td>\n",
              "      <td>Everyone</td>\n",
              "      <td>Art &amp; Design;Creativity</td>\n",
              "      <td>June 20 2018</td>\n",
              "      <td>1.1</td>\n",
              "      <td>4.4 and up</td>\n",
              "    </tr>\n",
              "    <tr>\n",
              "      <th>5</th>\n",
              "      <td>Paper flowers instructions</td>\n",
              "      <td>ART_AND_DESIGN</td>\n",
              "      <td>4.4</td>\n",
              "      <td>167</td>\n",
              "      <td>5.6M</td>\n",
              "      <td>50000+</td>\n",
              "      <td>Free</td>\n",
              "      <td>0</td>\n",
              "      <td>Everyone</td>\n",
              "      <td>Art &amp; Design</td>\n",
              "      <td>March 26 2017</td>\n",
              "      <td>1.0</td>\n",
              "      <td>2.3 and up</td>\n",
              "    </tr>\n",
              "    <tr>\n",
              "      <th>6</th>\n",
              "      <td>Smoke Effect Photo Maker - Smoke Editor</td>\n",
              "      <td>ART_AND_DESIGN</td>\n",
              "      <td>3.8</td>\n",
              "      <td>178</td>\n",
              "      <td>19M</td>\n",
              "      <td>50000+</td>\n",
              "      <td>Free</td>\n",
              "      <td>0</td>\n",
              "      <td>Everyone</td>\n",
              "      <td>Art &amp; Design</td>\n",
              "      <td>April 26 2018</td>\n",
              "      <td>1.1</td>\n",
              "      <td>4.0.3 and up</td>\n",
              "    </tr>\n",
              "    <tr>\n",
              "      <th>7</th>\n",
              "      <td>Infinite Painter</td>\n",
              "      <td>ART_AND_DESIGN</td>\n",
              "      <td>4.1</td>\n",
              "      <td>36815</td>\n",
              "      <td>29M</td>\n",
              "      <td>1000000+</td>\n",
              "      <td>Free</td>\n",
              "      <td>0</td>\n",
              "      <td>Everyone</td>\n",
              "      <td>Art &amp; Design</td>\n",
              "      <td>June 14 2018</td>\n",
              "      <td>6.1.61.1</td>\n",
              "      <td>4.2 and up</td>\n",
              "    </tr>\n",
              "    <tr>\n",
              "      <th>8</th>\n",
              "      <td>Garden Coloring Book</td>\n",
              "      <td>ART_AND_DESIGN</td>\n",
              "      <td>4.4</td>\n",
              "      <td>13791</td>\n",
              "      <td>33M</td>\n",
              "      <td>1000000+</td>\n",
              "      <td>Free</td>\n",
              "      <td>0</td>\n",
              "      <td>Everyone</td>\n",
              "      <td>Art &amp; Design</td>\n",
              "      <td>September 20 2017</td>\n",
              "      <td>2.9.2</td>\n",
              "      <td>3.0 and up</td>\n",
              "    </tr>\n",
              "    <tr>\n",
              "      <th>9</th>\n",
              "      <td>Kids Paint Free - Drawing Fun</td>\n",
              "      <td>ART_AND_DESIGN</td>\n",
              "      <td>4.7</td>\n",
              "      <td>121</td>\n",
              "      <td>3.1M</td>\n",
              "      <td>10000+</td>\n",
              "      <td>Free</td>\n",
              "      <td>0</td>\n",
              "      <td>Everyone</td>\n",
              "      <td>Art &amp; Design;Creativity</td>\n",
              "      <td>July 3 2018</td>\n",
              "      <td>2.8</td>\n",
              "      <td>4.0.3 and up</td>\n",
              "    </tr>\n",
              "  </tbody>\n",
              "</table>\n",
              "</div>"
            ],
            "text/plain": [
              "                                                 App        Category  Rating  \\\n",
              "0     Photo Editor & Candy Camera & Grid & ScrapBook  ART_AND_DESIGN     4.1   \n",
              "1                                Coloring book moana  ART_AND_DESIGN     3.9   \n",
              "2  U Launcher Lite – FREE Live Cool Themes Hide Apps  ART_AND_DESIGN     4.7   \n",
              "3                              Sketch - Draw & Paint  ART_AND_DESIGN     4.5   \n",
              "4              Pixel Draw - Number Art Coloring Book  ART_AND_DESIGN     4.3   \n",
              "5                         Paper flowers instructions  ART_AND_DESIGN     4.4   \n",
              "6            Smoke Effect Photo Maker - Smoke Editor  ART_AND_DESIGN     3.8   \n",
              "7                                   Infinite Painter  ART_AND_DESIGN     4.1   \n",
              "8                               Garden Coloring Book  ART_AND_DESIGN     4.4   \n",
              "9                      Kids Paint Free - Drawing Fun  ART_AND_DESIGN     4.7   \n",
              "\n",
              "  Reviews  Size   Installs  Type Price Content Rating  \\\n",
              "0     159   19M     10000+  Free     0       Everyone   \n",
              "1     967   14M    500000+  Free     0       Everyone   \n",
              "2   87510  8.7M   5000000+  Free     0       Everyone   \n",
              "3  215644   25M  50000000+  Free     0           Teen   \n",
              "4     967  2.8M    100000+  Free     0       Everyone   \n",
              "5     167  5.6M     50000+  Free     0       Everyone   \n",
              "6     178   19M     50000+  Free     0       Everyone   \n",
              "7   36815   29M   1000000+  Free     0       Everyone   \n",
              "8   13791   33M   1000000+  Free     0       Everyone   \n",
              "9     121  3.1M     10000+  Free     0       Everyone   \n",
              "\n",
              "                      Genres       Last Updated         Current Ver  \\\n",
              "0               Art & Design     January 7 2018               1.0.0   \n",
              "1  Art & Design;Pretend Play    January 15 2018               2.0.0   \n",
              "2               Art & Design      August 1 2018               1.2.4   \n",
              "3               Art & Design        June 8 2018  Varies with device   \n",
              "4    Art & Design;Creativity       June 20 2018                 1.1   \n",
              "5               Art & Design      March 26 2017                 1.0   \n",
              "6               Art & Design      April 26 2018                 1.1   \n",
              "7               Art & Design       June 14 2018            6.1.61.1   \n",
              "8               Art & Design  September 20 2017               2.9.2   \n",
              "9    Art & Design;Creativity        July 3 2018                 2.8   \n",
              "\n",
              "    Android Ver  \n",
              "0  4.0.3 and up  \n",
              "1  4.0.3 and up  \n",
              "2  4.0.3 and up  \n",
              "3    4.2 and up  \n",
              "4    4.4 and up  \n",
              "5    2.3 and up  \n",
              "6  4.0.3 and up  \n",
              "7    4.2 and up  \n",
              "8    3.0 and up  \n",
              "9  4.0.3 and up  "
            ]
          },
          "execution_count": 181,
          "metadata": {},
          "output_type": "execute_result"
        }
      ],
      "source": [
        "data.head(10)"
      ]
    },
    {
      "cell_type": "markdown",
      "metadata": {
        "id": "3Y0nU7kESt6N"
      },
      "source": [
        "Выводим последние 10 строк dataset-а:"
      ]
    },
    {
      "cell_type": "code",
      "execution_count": 184,
      "metadata": {
        "colab": {
          "base_uri": "https://localhost:8080/",
          "height": 546
        },
        "id": "krEiXeMYSt6N",
        "outputId": "7058924c-40a2-4e1f-c46a-1eb1ea3aaa28"
      },
      "outputs": [
        {
          "data": {
            "text/html": [
              "<div>\n",
              "<style scoped>\n",
              "    .dataframe tbody tr th:only-of-type {\n",
              "        vertical-align: middle;\n",
              "    }\n",
              "\n",
              "    .dataframe tbody tr th {\n",
              "        vertical-align: top;\n",
              "    }\n",
              "\n",
              "    .dataframe thead th {\n",
              "        text-align: right;\n",
              "    }\n",
              "</style>\n",
              "<table border=\"1\" class=\"dataframe\">\n",
              "  <thead>\n",
              "    <tr style=\"text-align: right;\">\n",
              "      <th></th>\n",
              "      <th>App</th>\n",
              "      <th>Category</th>\n",
              "      <th>Rating</th>\n",
              "      <th>Reviews</th>\n",
              "      <th>Size</th>\n",
              "      <th>Installs</th>\n",
              "      <th>Type</th>\n",
              "      <th>Price</th>\n",
              "      <th>Content Rating</th>\n",
              "      <th>Genres</th>\n",
              "      <th>Last Updated</th>\n",
              "      <th>Current Ver</th>\n",
              "      <th>Android Ver</th>\n",
              "    </tr>\n",
              "  </thead>\n",
              "  <tbody>\n",
              "    <tr>\n",
              "      <th>10831</th>\n",
              "      <td>payermonstationnement.fr</td>\n",
              "      <td>MAPS_AND_NAVIGATION</td>\n",
              "      <td>NaN</td>\n",
              "      <td>38</td>\n",
              "      <td>9.8M</td>\n",
              "      <td>5000+</td>\n",
              "      <td>Free</td>\n",
              "      <td>0</td>\n",
              "      <td>Everyone</td>\n",
              "      <td>Maps &amp; Navigation</td>\n",
              "      <td>June 13 2018</td>\n",
              "      <td>2.0.148.0</td>\n",
              "      <td>4.0 and up</td>\n",
              "    </tr>\n",
              "    <tr>\n",
              "      <th>10832</th>\n",
              "      <td>FR Tides</td>\n",
              "      <td>WEATHER</td>\n",
              "      <td>3.8</td>\n",
              "      <td>1195</td>\n",
              "      <td>582k</td>\n",
              "      <td>100000+</td>\n",
              "      <td>Free</td>\n",
              "      <td>0</td>\n",
              "      <td>Everyone</td>\n",
              "      <td>Weather</td>\n",
              "      <td>February 16 2014</td>\n",
              "      <td>6.0</td>\n",
              "      <td>2.1 and up</td>\n",
              "    </tr>\n",
              "    <tr>\n",
              "      <th>10833</th>\n",
              "      <td>Chemin (fr)</td>\n",
              "      <td>BOOKS_AND_REFERENCE</td>\n",
              "      <td>4.8</td>\n",
              "      <td>44</td>\n",
              "      <td>619k</td>\n",
              "      <td>1000+</td>\n",
              "      <td>Free</td>\n",
              "      <td>0</td>\n",
              "      <td>Everyone</td>\n",
              "      <td>Books &amp; Reference</td>\n",
              "      <td>March 23 2014</td>\n",
              "      <td>0.8</td>\n",
              "      <td>2.2 and up</td>\n",
              "    </tr>\n",
              "    <tr>\n",
              "      <th>10834</th>\n",
              "      <td>FR Calculator</td>\n",
              "      <td>FAMILY</td>\n",
              "      <td>4.0</td>\n",
              "      <td>7</td>\n",
              "      <td>2.6M</td>\n",
              "      <td>500+</td>\n",
              "      <td>Free</td>\n",
              "      <td>0</td>\n",
              "      <td>Everyone</td>\n",
              "      <td>Education</td>\n",
              "      <td>June 18 2017</td>\n",
              "      <td>1.0.0</td>\n",
              "      <td>4.1 and up</td>\n",
              "    </tr>\n",
              "    <tr>\n",
              "      <th>10835</th>\n",
              "      <td>FR Forms</td>\n",
              "      <td>BUSINESS</td>\n",
              "      <td>NaN</td>\n",
              "      <td>0</td>\n",
              "      <td>9.6M</td>\n",
              "      <td>10+</td>\n",
              "      <td>Free</td>\n",
              "      <td>0</td>\n",
              "      <td>Everyone</td>\n",
              "      <td>Business</td>\n",
              "      <td>September 29 2016</td>\n",
              "      <td>1.1.5</td>\n",
              "      <td>4.0 and up</td>\n",
              "    </tr>\n",
              "    <tr>\n",
              "      <th>10836</th>\n",
              "      <td>Sya9a Maroc - FR</td>\n",
              "      <td>FAMILY</td>\n",
              "      <td>4.5</td>\n",
              "      <td>38</td>\n",
              "      <td>53M</td>\n",
              "      <td>5000+</td>\n",
              "      <td>Free</td>\n",
              "      <td>0</td>\n",
              "      <td>Everyone</td>\n",
              "      <td>Education</td>\n",
              "      <td>July 25 2017</td>\n",
              "      <td>1.48</td>\n",
              "      <td>4.1 and up</td>\n",
              "    </tr>\n",
              "    <tr>\n",
              "      <th>10837</th>\n",
              "      <td>Fr. Mike Schmitz Audio Teachings</td>\n",
              "      <td>FAMILY</td>\n",
              "      <td>5.0</td>\n",
              "      <td>4</td>\n",
              "      <td>3.6M</td>\n",
              "      <td>100+</td>\n",
              "      <td>Free</td>\n",
              "      <td>0</td>\n",
              "      <td>Everyone</td>\n",
              "      <td>Education</td>\n",
              "      <td>July 6 2018</td>\n",
              "      <td>1.0</td>\n",
              "      <td>4.1 and up</td>\n",
              "    </tr>\n",
              "    <tr>\n",
              "      <th>10838</th>\n",
              "      <td>Parkinson Exercices FR</td>\n",
              "      <td>MEDICAL</td>\n",
              "      <td>NaN</td>\n",
              "      <td>3</td>\n",
              "      <td>9.5M</td>\n",
              "      <td>1000+</td>\n",
              "      <td>Free</td>\n",
              "      <td>0</td>\n",
              "      <td>Everyone</td>\n",
              "      <td>Medical</td>\n",
              "      <td>January 20 2017</td>\n",
              "      <td>1.0</td>\n",
              "      <td>2.2 and up</td>\n",
              "    </tr>\n",
              "    <tr>\n",
              "      <th>10839</th>\n",
              "      <td>The SCP Foundation DB fr nn5n</td>\n",
              "      <td>BOOKS_AND_REFERENCE</td>\n",
              "      <td>4.5</td>\n",
              "      <td>114</td>\n",
              "      <td>Varies with device</td>\n",
              "      <td>1000+</td>\n",
              "      <td>Free</td>\n",
              "      <td>0</td>\n",
              "      <td>Mature 17+</td>\n",
              "      <td>Books &amp; Reference</td>\n",
              "      <td>January 19 2015</td>\n",
              "      <td>Varies with device</td>\n",
              "      <td>Varies with device</td>\n",
              "    </tr>\n",
              "    <tr>\n",
              "      <th>10840</th>\n",
              "      <td>iHoroscope - 2018 Daily Horoscope &amp; Astrology</td>\n",
              "      <td>LIFESTYLE</td>\n",
              "      <td>4.5</td>\n",
              "      <td>398307</td>\n",
              "      <td>19M</td>\n",
              "      <td>10000000+</td>\n",
              "      <td>Free</td>\n",
              "      <td>0</td>\n",
              "      <td>Everyone</td>\n",
              "      <td>Lifestyle</td>\n",
              "      <td>July 25 2018</td>\n",
              "      <td>Varies with device</td>\n",
              "      <td>Varies with device</td>\n",
              "    </tr>\n",
              "  </tbody>\n",
              "</table>\n",
              "</div>"
            ],
            "text/plain": [
              "                                                 App             Category  \\\n",
              "10831                       payermonstationnement.fr  MAPS_AND_NAVIGATION   \n",
              "10832                                       FR Tides              WEATHER   \n",
              "10833                                    Chemin (fr)  BOOKS_AND_REFERENCE   \n",
              "10834                                  FR Calculator               FAMILY   \n",
              "10835                                       FR Forms             BUSINESS   \n",
              "10836                               Sya9a Maroc - FR               FAMILY   \n",
              "10837               Fr. Mike Schmitz Audio Teachings               FAMILY   \n",
              "10838                         Parkinson Exercices FR              MEDICAL   \n",
              "10839                  The SCP Foundation DB fr nn5n  BOOKS_AND_REFERENCE   \n",
              "10840  iHoroscope - 2018 Daily Horoscope & Astrology            LIFESTYLE   \n",
              "\n",
              "       Rating Reviews                Size   Installs  Type Price  \\\n",
              "10831     NaN      38                9.8M      5000+  Free     0   \n",
              "10832     3.8    1195                582k    100000+  Free     0   \n",
              "10833     4.8      44                619k      1000+  Free     0   \n",
              "10834     4.0       7                2.6M       500+  Free     0   \n",
              "10835     NaN       0                9.6M        10+  Free     0   \n",
              "10836     4.5      38                 53M      5000+  Free     0   \n",
              "10837     5.0       4                3.6M       100+  Free     0   \n",
              "10838     NaN       3                9.5M      1000+  Free     0   \n",
              "10839     4.5     114  Varies with device      1000+  Free     0   \n",
              "10840     4.5  398307                 19M  10000000+  Free     0   \n",
              "\n",
              "      Content Rating             Genres       Last Updated  \\\n",
              "10831       Everyone  Maps & Navigation       June 13 2018   \n",
              "10832       Everyone            Weather   February 16 2014   \n",
              "10833       Everyone  Books & Reference      March 23 2014   \n",
              "10834       Everyone          Education       June 18 2017   \n",
              "10835       Everyone           Business  September 29 2016   \n",
              "10836       Everyone          Education       July 25 2017   \n",
              "10837       Everyone          Education        July 6 2018   \n",
              "10838       Everyone            Medical    January 20 2017   \n",
              "10839     Mature 17+  Books & Reference    January 19 2015   \n",
              "10840       Everyone          Lifestyle       July 25 2018   \n",
              "\n",
              "              Current Ver         Android Ver  \n",
              "10831           2.0.148.0          4.0 and up  \n",
              "10832                 6.0          2.1 and up  \n",
              "10833                 0.8          2.2 and up  \n",
              "10834               1.0.0          4.1 and up  \n",
              "10835               1.1.5          4.0 and up  \n",
              "10836                1.48          4.1 and up  \n",
              "10837                 1.0          4.1 and up  \n",
              "10838                 1.0          2.2 and up  \n",
              "10839  Varies with device  Varies with device  \n",
              "10840  Varies with device  Varies with device  "
            ]
          },
          "execution_count": 184,
          "metadata": {},
          "output_type": "execute_result"
        }
      ],
      "source": [
        "data.tail(10)"
      ]
    },
    {
      "cell_type": "markdown",
      "metadata": {
        "id": "xJzzZYUpSt6O"
      },
      "source": [
        "### О наборе данных:\n",
        "\n",
        "- App - название приложения\n",
        "- Category - категория приложения\n",
        "- Rating - рейтинг приложения\n",
        "- Reviews - количество отзывов о приложении\n",
        "- Size - размер приложения\n",
        "- Installs - количество скачиваний приложения\n",
        "- Type - платное или бесплатное приложение\n",
        "- Price - цена приложения\n",
        "- Content Rating - возрастное ограничение\n",
        "- Genres - жанр приложения\n",
        "- Last Updated - последнее обновление\n",
        "- Current Ver - текущая версия приложения\n",
        "- Android Ver - версия Android OS, которую поддерживает приложение"
      ]
    },
    {
      "cell_type": "markdown",
      "metadata": {
        "id": "kZdxEbImSt6P"
      },
      "source": [
        "Выведем описательную статистику по нашему dataset-у:"
      ]
    },
    {
      "cell_type": "code",
      "execution_count": 163,
      "metadata": {
        "colab": {
          "base_uri": "https://localhost:8080/",
          "height": 300
        },
        "id": "aNqc_3Y0St6P",
        "outputId": "cbd6ef4f-2bde-4ef3-9467-fe8ae5ed6400"
      },
      "outputs": [
        {
          "data": {
            "text/html": [
              "<div>\n",
              "<style scoped>\n",
              "    .dataframe tbody tr th:only-of-type {\n",
              "        vertical-align: middle;\n",
              "    }\n",
              "\n",
              "    .dataframe tbody tr th {\n",
              "        vertical-align: top;\n",
              "    }\n",
              "\n",
              "    .dataframe thead th {\n",
              "        text-align: right;\n",
              "    }\n",
              "</style>\n",
              "<table border=\"1\" class=\"dataframe\">\n",
              "  <thead>\n",
              "    <tr style=\"text-align: right;\">\n",
              "      <th></th>\n",
              "      <th>Rating</th>\n",
              "    </tr>\n",
              "  </thead>\n",
              "  <tbody>\n",
              "    <tr>\n",
              "      <th>count</th>\n",
              "      <td>9367.000000</td>\n",
              "    </tr>\n",
              "    <tr>\n",
              "      <th>mean</th>\n",
              "      <td>4.193338</td>\n",
              "    </tr>\n",
              "    <tr>\n",
              "      <th>std</th>\n",
              "      <td>0.537431</td>\n",
              "    </tr>\n",
              "    <tr>\n",
              "      <th>min</th>\n",
              "      <td>1.000000</td>\n",
              "    </tr>\n",
              "    <tr>\n",
              "      <th>25%</th>\n",
              "      <td>4.000000</td>\n",
              "    </tr>\n",
              "    <tr>\n",
              "      <th>50%</th>\n",
              "      <td>4.300000</td>\n",
              "    </tr>\n",
              "    <tr>\n",
              "      <th>75%</th>\n",
              "      <td>4.500000</td>\n",
              "    </tr>\n",
              "    <tr>\n",
              "      <th>max</th>\n",
              "      <td>19.000000</td>\n",
              "    </tr>\n",
              "  </tbody>\n",
              "</table>\n",
              "</div>"
            ],
            "text/plain": [
              "            Rating\n",
              "count  9367.000000\n",
              "mean      4.193338\n",
              "std       0.537431\n",
              "min       1.000000\n",
              "25%       4.000000\n",
              "50%       4.300000\n",
              "75%       4.500000\n",
              "max      19.000000"
            ]
          },
          "execution_count": 163,
          "metadata": {},
          "output_type": "execute_result"
        }
      ],
      "source": [
        "data.describe()"
      ]
    },
    {
      "cell_type": "code",
      "execution_count": 164,
      "metadata": {
        "colab": {
          "base_uri": "https://localhost:8080/",
          "height": 175
        },
        "id": "R9v56Y-tSt6P",
        "outputId": "962ca7a2-ebbb-4796-b5c0-c64cae1d303b"
      },
      "outputs": [
        {
          "data": {
            "text/html": [
              "<div>\n",
              "<style scoped>\n",
              "    .dataframe tbody tr th:only-of-type {\n",
              "        vertical-align: middle;\n",
              "    }\n",
              "\n",
              "    .dataframe tbody tr th {\n",
              "        vertical-align: top;\n",
              "    }\n",
              "\n",
              "    .dataframe thead th {\n",
              "        text-align: right;\n",
              "    }\n",
              "</style>\n",
              "<table border=\"1\" class=\"dataframe\">\n",
              "  <thead>\n",
              "    <tr style=\"text-align: right;\">\n",
              "      <th></th>\n",
              "      <th>App</th>\n",
              "      <th>Category</th>\n",
              "      <th>Reviews</th>\n",
              "      <th>Size</th>\n",
              "      <th>Installs</th>\n",
              "      <th>Type</th>\n",
              "      <th>Price</th>\n",
              "      <th>Content Rating</th>\n",
              "      <th>Genres</th>\n",
              "      <th>Last Updated</th>\n",
              "      <th>Current Ver</th>\n",
              "      <th>Android Ver</th>\n",
              "    </tr>\n",
              "  </thead>\n",
              "  <tbody>\n",
              "    <tr>\n",
              "      <th>count</th>\n",
              "      <td>10841</td>\n",
              "      <td>10841</td>\n",
              "      <td>10841</td>\n",
              "      <td>10841</td>\n",
              "      <td>10841</td>\n",
              "      <td>10840</td>\n",
              "      <td>10841</td>\n",
              "      <td>10840</td>\n",
              "      <td>10841</td>\n",
              "      <td>10841</td>\n",
              "      <td>10833</td>\n",
              "      <td>10838</td>\n",
              "    </tr>\n",
              "    <tr>\n",
              "      <th>unique</th>\n",
              "      <td>9660</td>\n",
              "      <td>34</td>\n",
              "      <td>6002</td>\n",
              "      <td>462</td>\n",
              "      <td>22</td>\n",
              "      <td>3</td>\n",
              "      <td>93</td>\n",
              "      <td>6</td>\n",
              "      <td>120</td>\n",
              "      <td>1378</td>\n",
              "      <td>2832</td>\n",
              "      <td>33</td>\n",
              "    </tr>\n",
              "    <tr>\n",
              "      <th>top</th>\n",
              "      <td>ROBLOX</td>\n",
              "      <td>FAMILY</td>\n",
              "      <td>0</td>\n",
              "      <td>Varies with device</td>\n",
              "      <td>1,000,000+</td>\n",
              "      <td>Free</td>\n",
              "      <td>0</td>\n",
              "      <td>Everyone</td>\n",
              "      <td>Tools</td>\n",
              "      <td>August 3, 2018</td>\n",
              "      <td>Varies with device</td>\n",
              "      <td>4.1 and up</td>\n",
              "    </tr>\n",
              "    <tr>\n",
              "      <th>freq</th>\n",
              "      <td>9</td>\n",
              "      <td>1972</td>\n",
              "      <td>596</td>\n",
              "      <td>1695</td>\n",
              "      <td>1579</td>\n",
              "      <td>10039</td>\n",
              "      <td>10040</td>\n",
              "      <td>8714</td>\n",
              "      <td>842</td>\n",
              "      <td>326</td>\n",
              "      <td>1459</td>\n",
              "      <td>2451</td>\n",
              "    </tr>\n",
              "  </tbody>\n",
              "</table>\n",
              "</div>"
            ],
            "text/plain": [
              "           App Category Reviews                Size    Installs   Type  Price  \\\n",
              "count    10841    10841   10841               10841       10841  10840  10841   \n",
              "unique    9660       34    6002                 462          22      3     93   \n",
              "top     ROBLOX   FAMILY       0  Varies with device  1,000,000+   Free      0   \n",
              "freq         9     1972     596                1695        1579  10039  10040   \n",
              "\n",
              "       Content Rating Genres    Last Updated         Current Ver Android Ver  \n",
              "count           10840  10841           10841               10833       10838  \n",
              "unique              6    120            1378                2832          33  \n",
              "top          Everyone  Tools  August 3, 2018  Varies with device  4.1 and up  \n",
              "freq             8714    842             326                1459        2451  "
            ]
          },
          "execution_count": 164,
          "metadata": {},
          "output_type": "execute_result"
        }
      ],
      "source": [
        "data.describe(include = ['object'])"
      ]
    },
    {
      "cell_type": "code",
      "execution_count": 177,
      "metadata": {
        "colab": {
          "base_uri": "https://localhost:8080/",
          "height": 394
        },
        "id": "lWFc9KWQSt6Q",
        "outputId": "517a75a7-9c04-46ed-d5ab-180872ec2581"
      },
      "outputs": [
        {
          "data": {
            "text/html": [
              "<div>\n",
              "<style scoped>\n",
              "    .dataframe tbody tr th:only-of-type {\n",
              "        vertical-align: middle;\n",
              "    }\n",
              "\n",
              "    .dataframe tbody tr th {\n",
              "        vertical-align: top;\n",
              "    }\n",
              "\n",
              "    .dataframe thead th {\n",
              "        text-align: right;\n",
              "    }\n",
              "</style>\n",
              "<table border=\"1\" class=\"dataframe\">\n",
              "  <thead>\n",
              "    <tr style=\"text-align: right;\">\n",
              "      <th></th>\n",
              "      <th>App</th>\n",
              "      <th>Category</th>\n",
              "      <th>Rating</th>\n",
              "      <th>Reviews</th>\n",
              "      <th>Size</th>\n",
              "      <th>Installs</th>\n",
              "      <th>Type</th>\n",
              "      <th>Price</th>\n",
              "      <th>Content Rating</th>\n",
              "      <th>Genres</th>\n",
              "      <th>Last Updated</th>\n",
              "      <th>Current Ver</th>\n",
              "      <th>Android Ver</th>\n",
              "    </tr>\n",
              "  </thead>\n",
              "  <tbody>\n",
              "    <tr>\n",
              "      <th>count</th>\n",
              "      <td>10841</td>\n",
              "      <td>10841</td>\n",
              "      <td>9367.000000</td>\n",
              "      <td>10841</td>\n",
              "      <td>10841</td>\n",
              "      <td>10841</td>\n",
              "      <td>10840</td>\n",
              "      <td>10841</td>\n",
              "      <td>10840</td>\n",
              "      <td>10841</td>\n",
              "      <td>10841</td>\n",
              "      <td>10833</td>\n",
              "      <td>10838</td>\n",
              "    </tr>\n",
              "    <tr>\n",
              "      <th>unique</th>\n",
              "      <td>9659</td>\n",
              "      <td>34</td>\n",
              "      <td>NaN</td>\n",
              "      <td>6002</td>\n",
              "      <td>462</td>\n",
              "      <td>21</td>\n",
              "      <td>3</td>\n",
              "      <td>93</td>\n",
              "      <td>6</td>\n",
              "      <td>120</td>\n",
              "      <td>1378</td>\n",
              "      <td>2832</td>\n",
              "      <td>33</td>\n",
              "    </tr>\n",
              "    <tr>\n",
              "      <th>top</th>\n",
              "      <td>ROBLOX</td>\n",
              "      <td>FAMILY</td>\n",
              "      <td>NaN</td>\n",
              "      <td>0</td>\n",
              "      <td>Varies with device</td>\n",
              "      <td>1000000+</td>\n",
              "      <td>Free</td>\n",
              "      <td>0</td>\n",
              "      <td>Everyone</td>\n",
              "      <td>Tools</td>\n",
              "      <td>August 3 2018</td>\n",
              "      <td>Varies with device</td>\n",
              "      <td>4.1 and up</td>\n",
              "    </tr>\n",
              "    <tr>\n",
              "      <th>freq</th>\n",
              "      <td>9</td>\n",
              "      <td>1972</td>\n",
              "      <td>NaN</td>\n",
              "      <td>596</td>\n",
              "      <td>1695</td>\n",
              "      <td>1579</td>\n",
              "      <td>10039</td>\n",
              "      <td>10040</td>\n",
              "      <td>8714</td>\n",
              "      <td>842</td>\n",
              "      <td>326</td>\n",
              "      <td>1459</td>\n",
              "      <td>2451</td>\n",
              "    </tr>\n",
              "    <tr>\n",
              "      <th>mean</th>\n",
              "      <td>NaN</td>\n",
              "      <td>NaN</td>\n",
              "      <td>4.193338</td>\n",
              "      <td>NaN</td>\n",
              "      <td>NaN</td>\n",
              "      <td>NaN</td>\n",
              "      <td>NaN</td>\n",
              "      <td>NaN</td>\n",
              "      <td>NaN</td>\n",
              "      <td>NaN</td>\n",
              "      <td>NaN</td>\n",
              "      <td>NaN</td>\n",
              "      <td>NaN</td>\n",
              "    </tr>\n",
              "    <tr>\n",
              "      <th>std</th>\n",
              "      <td>NaN</td>\n",
              "      <td>NaN</td>\n",
              "      <td>0.537431</td>\n",
              "      <td>NaN</td>\n",
              "      <td>NaN</td>\n",
              "      <td>NaN</td>\n",
              "      <td>NaN</td>\n",
              "      <td>NaN</td>\n",
              "      <td>NaN</td>\n",
              "      <td>NaN</td>\n",
              "      <td>NaN</td>\n",
              "      <td>NaN</td>\n",
              "      <td>NaN</td>\n",
              "    </tr>\n",
              "    <tr>\n",
              "      <th>min</th>\n",
              "      <td>NaN</td>\n",
              "      <td>NaN</td>\n",
              "      <td>1.000000</td>\n",
              "      <td>NaN</td>\n",
              "      <td>NaN</td>\n",
              "      <td>NaN</td>\n",
              "      <td>NaN</td>\n",
              "      <td>NaN</td>\n",
              "      <td>NaN</td>\n",
              "      <td>NaN</td>\n",
              "      <td>NaN</td>\n",
              "      <td>NaN</td>\n",
              "      <td>NaN</td>\n",
              "    </tr>\n",
              "    <tr>\n",
              "      <th>25%</th>\n",
              "      <td>NaN</td>\n",
              "      <td>NaN</td>\n",
              "      <td>4.000000</td>\n",
              "      <td>NaN</td>\n",
              "      <td>NaN</td>\n",
              "      <td>NaN</td>\n",
              "      <td>NaN</td>\n",
              "      <td>NaN</td>\n",
              "      <td>NaN</td>\n",
              "      <td>NaN</td>\n",
              "      <td>NaN</td>\n",
              "      <td>NaN</td>\n",
              "      <td>NaN</td>\n",
              "    </tr>\n",
              "    <tr>\n",
              "      <th>50%</th>\n",
              "      <td>NaN</td>\n",
              "      <td>NaN</td>\n",
              "      <td>4.300000</td>\n",
              "      <td>NaN</td>\n",
              "      <td>NaN</td>\n",
              "      <td>NaN</td>\n",
              "      <td>NaN</td>\n",
              "      <td>NaN</td>\n",
              "      <td>NaN</td>\n",
              "      <td>NaN</td>\n",
              "      <td>NaN</td>\n",
              "      <td>NaN</td>\n",
              "      <td>NaN</td>\n",
              "    </tr>\n",
              "    <tr>\n",
              "      <th>75%</th>\n",
              "      <td>NaN</td>\n",
              "      <td>NaN</td>\n",
              "      <td>4.500000</td>\n",
              "      <td>NaN</td>\n",
              "      <td>NaN</td>\n",
              "      <td>NaN</td>\n",
              "      <td>NaN</td>\n",
              "      <td>NaN</td>\n",
              "      <td>NaN</td>\n",
              "      <td>NaN</td>\n",
              "      <td>NaN</td>\n",
              "      <td>NaN</td>\n",
              "      <td>NaN</td>\n",
              "    </tr>\n",
              "    <tr>\n",
              "      <th>max</th>\n",
              "      <td>NaN</td>\n",
              "      <td>NaN</td>\n",
              "      <td>19.000000</td>\n",
              "      <td>NaN</td>\n",
              "      <td>NaN</td>\n",
              "      <td>NaN</td>\n",
              "      <td>NaN</td>\n",
              "      <td>NaN</td>\n",
              "      <td>NaN</td>\n",
              "      <td>NaN</td>\n",
              "      <td>NaN</td>\n",
              "      <td>NaN</td>\n",
              "      <td>NaN</td>\n",
              "    </tr>\n",
              "  </tbody>\n",
              "</table>\n",
              "</div>"
            ],
            "text/plain": [
              "           App Category       Rating Reviews                Size  Installs  \\\n",
              "count    10841    10841  9367.000000   10841               10841     10841   \n",
              "unique    9659       34          NaN    6002                 462        21   \n",
              "top     ROBLOX   FAMILY          NaN       0  Varies with device  1000000+   \n",
              "freq         9     1972          NaN     596                1695      1579   \n",
              "mean       NaN      NaN     4.193338     NaN                 NaN       NaN   \n",
              "std        NaN      NaN     0.537431     NaN                 NaN       NaN   \n",
              "min        NaN      NaN     1.000000     NaN                 NaN       NaN   \n",
              "25%        NaN      NaN     4.000000     NaN                 NaN       NaN   \n",
              "50%        NaN      NaN     4.300000     NaN                 NaN       NaN   \n",
              "75%        NaN      NaN     4.500000     NaN                 NaN       NaN   \n",
              "max        NaN      NaN    19.000000     NaN                 NaN       NaN   \n",
              "\n",
              "         Type  Price Content Rating Genres   Last Updated         Current Ver  \\\n",
              "count   10840  10841          10840  10841          10841               10833   \n",
              "unique      3     93              6    120           1378                2832   \n",
              "top      Free      0       Everyone  Tools  August 3 2018  Varies with device   \n",
              "freq    10039  10040           8714    842            326                1459   \n",
              "mean      NaN    NaN            NaN    NaN            NaN                 NaN   \n",
              "std       NaN    NaN            NaN    NaN            NaN                 NaN   \n",
              "min       NaN    NaN            NaN    NaN            NaN                 NaN   \n",
              "25%       NaN    NaN            NaN    NaN            NaN                 NaN   \n",
              "50%       NaN    NaN            NaN    NaN            NaN                 NaN   \n",
              "75%       NaN    NaN            NaN    NaN            NaN                 NaN   \n",
              "max       NaN    NaN            NaN    NaN            NaN                 NaN   \n",
              "\n",
              "       Android Ver  \n",
              "count        10838  \n",
              "unique          33  \n",
              "top     4.1 and up  \n",
              "freq          2451  \n",
              "mean           NaN  \n",
              "std            NaN  \n",
              "min            NaN  \n",
              "25%            NaN  \n",
              "50%            NaN  \n",
              "75%            NaN  \n",
              "max            NaN  "
            ]
          },
          "execution_count": 177,
          "metadata": {},
          "output_type": "execute_result"
        }
      ],
      "source": [
        "data.describe(include = 'all')"
      ]
    },
    {
      "cell_type": "markdown",
      "metadata": {
        "id": "8A_jP0sbSt6R"
      },
      "source": [
        "Визуализируем данную матрицу корреляции:"
      ]
    },
    {
      "cell_type": "code",
      "execution_count": 166,
      "metadata": {
        "colab": {
          "base_uri": "https://localhost:8080/"
        },
        "id": "mS3jlcEFSt6R",
        "outputId": "641a2519-a1e1-4013-aa3d-d65e3e3daf5c"
      },
      "outputs": [
        {
          "name": "stdout",
          "output_type": "stream",
          "text": [
            "Defaulting to user installation because normal site-packages is not writeable\n",
            "Requirement already satisfied: seaborn in c:\\users\\nick\\appdata\\roaming\\python\\python310\\site-packages (0.12.1)\n",
            "Requirement already satisfied: pandas>=0.25 in c:\\program files\\python310\\lib\\site-packages (from seaborn) (1.5.2)\n",
            "Requirement already satisfied: numpy>=1.17 in c:\\program files\\python310\\lib\\site-packages (from seaborn) (1.24.0)\n",
            "Requirement already satisfied: matplotlib!=3.6.1,>=3.1 in c:\\program files\\python310\\lib\\site-packages (from seaborn) (3.6.2)\n",
            "Requirement already satisfied: contourpy>=1.0.1 in c:\\program files\\python310\\lib\\site-packages (from matplotlib!=3.6.1,>=3.1->seaborn) (1.0.6)\n",
            "Requirement already satisfied: fonttools>=4.22.0 in c:\\program files\\python310\\lib\\site-packages (from matplotlib!=3.6.1,>=3.1->seaborn) (4.38.0)\n",
            "Requirement already satisfied: cycler>=0.10 in c:\\program files\\python310\\lib\\site-packages (from matplotlib!=3.6.1,>=3.1->seaborn) (0.11.0)\n",
            "Requirement already satisfied: pyparsing>=2.2.1 in c:\\program files\\python310\\lib\\site-packages (from matplotlib!=3.6.1,>=3.1->seaborn) (3.0.9)\n",
            "Requirement already satisfied: pillow>=6.2.0 in c:\\program files\\python310\\lib\\site-packages (from matplotlib!=3.6.1,>=3.1->seaborn) (9.3.0)\n",
            "Requirement already satisfied: packaging>=20.0 in c:\\users\\nick\\appdata\\roaming\\python\\python310\\site-packages (from matplotlib!=3.6.1,>=3.1->seaborn) (22.0)\n",
            "Requirement already satisfied: kiwisolver>=1.0.1 in c:\\program files\\python310\\lib\\site-packages (from matplotlib!=3.6.1,>=3.1->seaborn) (1.4.4)\n",
            "Requirement already satisfied: python-dateutil>=2.7 in c:\\users\\nick\\appdata\\roaming\\python\\python310\\site-packages (from matplotlib!=3.6.1,>=3.1->seaborn) (2.8.2)\n",
            "Requirement already satisfied: pytz>=2020.1 in c:\\program files\\python310\\lib\\site-packages (from pandas>=0.25->seaborn) (2022.7)\n",
            "Requirement already satisfied: six>=1.5 in c:\\users\\nick\\appdata\\roaming\\python\\python310\\site-packages (from python-dateutil>=2.7->matplotlib!=3.6.1,>=3.1->seaborn) (1.16.0)\n"
          ]
        },
        {
          "name": "stderr",
          "output_type": "stream",
          "text": [
            "\n",
            "[notice] A new release of pip available: 22.2.1 -> 22.3.1\n",
            "[notice] To update, run: python.exe -m pip install --upgrade pip\n"
          ]
        }
      ],
      "source": [
        "import sys\n",
        "! pip install seaborn\n",
        "import seaborn as sns"
      ]
    },
    {
      "cell_type": "code",
      "execution_count": 167,
      "metadata": {
        "colab": {
          "base_uri": "https://localhost:8080/",
          "height": 214
        },
        "id": "1ivrI0qnSt6R",
        "outputId": "54b927f1-7ad9-4244-e6b8-17ca315d281b"
      },
      "outputs": [
        {
          "data": {
            "text/plain": [
              "<seaborn.axisgrid.PairGrid at 0x223479cc670>"
            ]
          },
          "execution_count": 167,
          "metadata": {},
          "output_type": "execute_result"
        },
        {
          "data": {
            "image/png": "[encoded data removed]",
            "text/plain": [
              "<Figure size 324.861x250 with 2 Axes>"
            ]
          },
          "metadata": {},
          "output_type": "display_data"
        }
      ],
      "source": [
        "random_subset = np.random.choice(np.arange(data.shape[0]), size=100, replace=False)\n",
        "sns.pairplot(data.iloc[random_subset], hue='Category', diag_kind='hist')"
      ]
    },
    {
      "cell_type": "code",
      "execution_count": 182,
      "metadata": {},
      "outputs": [],
      "source": [
        "data = data.replace(\",/g\", \"\", regex=True)\n",
        "data = data.replace(\"0\\+/gm\", \"0\")"
      ]
    },
    {
      "cell_type": "markdown",
      "metadata": {
        "id": "EhQaiDo2akf2"
      },
      "source": [
        "Так как большинство признаков номинальные, для правильной визуализации нам нужно обработать данные."
      ]
    },
    {
      "cell_type": "code",
      "execution_count": 185,
      "metadata": {
        "colab": {
          "base_uri": "https://localhost:8080/"
        },
        "id": "LuHNBNhEbden",
        "outputId": "24258be1-ef93-43ba-d515-9e8d2ee47491"
      },
      "outputs": [
        {
          "data": {
            "text/plain": [
              "CategoricalDtype(categories=['1.9', 'ART_AND_DESIGN', 'AUTO_AND_VEHICLES', 'BEAUTY',\n",
              "                  'BOOKS_AND_REFERENCE', 'BUSINESS', 'COMICS', 'COMMUNICATION',\n",
              "                  'DATING', 'EDUCATION', 'ENTERTAINMENT', 'EVENTS', 'FAMILY',\n",
              "                  'FINANCE', 'FOOD_AND_DRINK', 'GAME', 'HEALTH_AND_FITNESS',\n",
              "                  'HOUSE_AND_HOME', 'LIBRARIES_AND_DEMO', 'LIFESTYLE',\n",
              "                  'MAPS_AND_NAVIGATION', 'MEDICAL', 'NEWS_AND_MAGAZINES',\n",
              "                  'PARENTING', 'PERSONALIZATION', 'PHOTOGRAPHY',\n",
              "                  'PRODUCTIVITY', 'SHOPPING', 'SOCIAL', 'SPORTS', 'TOOLS',\n",
              "                  'TRAVEL_AND_LOCAL', 'VIDEO_PLAYERS', 'WEATHER'],\n",
              ", ordered=False)"
            ]
          },
          "execution_count": 185,
          "metadata": {},
          "output_type": "execute_result"
        }
      ],
      "source": [
        "data['Category'] = data['Category'].astype('category')\n",
        "data['Category'] = data['Category'].replace(\"1.9\", np.nan , regex=True)\n",
        "data['Category'].dtype"
      ]
    },
    {
      "cell_type": "code",
      "execution_count": 186,
      "metadata": {
        "colab": {
          "base_uri": "https://localhost:8080/"
        },
        "id": "IvKcwmqrbf9D",
        "outputId": "4252844e-e63e-4415-cb41-426846249295"
      },
      "outputs": [
        {
          "data": {
            "text/plain": [
              "CategoricalDtype(categories=['0', 'Free', 'Paid'], ordered=False)"
            ]
          },
          "execution_count": 186,
          "metadata": {},
          "output_type": "execute_result"
        }
      ],
      "source": [
        "data['Type'] = data['Type'].astype('category')\n",
        "data['Type'] = data['Type'].replace(\"0\", \"Free\" , regex=True)\n",
        "data['Type'].dtype"
      ]
    },
    {
      "cell_type": "code",
      "execution_count": 187,
      "metadata": {
        "colab": {
          "base_uri": "https://localhost:8080/"
        },
        "id": "UwENivuwbhJC",
        "outputId": "43dab863-8967-460b-a9c4-828d9ddf9231"
      },
      "outputs": [
        {
          "data": {
            "text/plain": [
              "CategoricalDtype(categories=['Action', 'Action;Action & Adventure', 'Adventure',\n",
              "                  'Adventure;Action & Adventure', 'Adventure;Brain Games',\n",
              "                  'Adventure;Education', 'Arcade', 'Arcade;Action & Adventure',\n",
              "                  'Arcade;Pretend Play', 'Art & Design',\n",
              "                  ...\n",
              "                  'Tools;Education', 'Travel & Local',\n",
              "                  'Travel & Local;Action & Adventure', 'Trivia',\n",
              "                  'Trivia;Education', 'Video Players & Editors',\n",
              "                  'Video Players & Editors;Creativity',\n",
              "                  'Video Players & Editors;Music & Video', 'Weather', 'Word'],\n",
              ", ordered=False)"
            ]
          },
          "execution_count": 187,
          "metadata": {},
          "output_type": "execute_result"
        }
      ],
      "source": [
        "data['Genres'] = data['Genres'].astype('category')\n",
        "data['Genres'].dtype"
      ]
    },
    {
      "cell_type": "code",
      "execution_count": 188,
      "metadata": {
        "colab": {
          "base_uri": "https://localhost:8080/"
        },
        "id": "uxo414CIbiUd",
        "outputId": "a4d1d0ea-2587-4abf-dbe5-6e9423bab838"
      },
      "outputs": [
        {
          "data": {
            "text/plain": [
              "dtype('float64')"
            ]
          },
          "execution_count": 188,
          "metadata": {},
          "output_type": "execute_result"
        }
      ],
      "source": [
        "data['Reviews'] = data['Reviews'].replace(\"3.0M\", 3000000 , regex=True)\n",
        "data['Reviews'] = data['Reviews'].astype('float')\n",
        "data['Reviews'].dtype"
      ]
    },
    {
      "cell_type": "code",
      "execution_count": 189,
      "metadata": {
        "colab": {
          "base_uri": "https://localhost:8080/"
        },
        "id": "m10hizbqbj5j",
        "outputId": "5ad89ad4-f750-458b-b653-b64289b72eff"
      },
      "outputs": [
        {
          "data": {
            "text/plain": [
              "dtype('float64')"
            ]
          },
          "execution_count": 189,
          "metadata": {},
          "output_type": "execute_result"
        }
      ],
      "source": [
        "data['Size'] = data['Size'].replace(\"Varies with device\", np.nan , regex=True)\n",
        "data['Size'] = data['Size'].str[:-1]\n",
        "data['Size'] = pd.to_numeric(data['Size'])\n",
        "data['Size'].dtype"
      ]
    },
    {
      "cell_type": "code",
      "execution_count": 190,
      "metadata": {
        "colab": {
          "base_uri": "https://localhost:8080/"
        },
        "id": "3H1tivIqblcQ",
        "outputId": "b0aa80ea-743b-4ac1-b87e-795713456b6a"
      },
      "outputs": [
        {
          "data": {
            "text/plain": [
              "dtype('float64')"
            ]
          },
          "execution_count": 190,
          "metadata": {},
          "output_type": "execute_result"
        }
      ],
      "source": [
        "data['Installs'] = data['Installs'].replace(\"Free\", np.nan , regex=True)\n",
        "data['Installs'] = data['Installs'].apply(lambda v: float(str(v).replace(\"+\",\"\").replace(\",\",\"\")))\n",
        "data['Installs'] = data['Installs'].astype('float')\n",
        "data['Installs'].dtype"
      ]
    },
    {
      "cell_type": "code",
      "execution_count": 191,
      "metadata": {
        "colab": {
          "base_uri": "https://localhost:8080/"
        },
        "id": "2ql6fUz8bmn7",
        "outputId": "1d2177eb-166c-4304-97ac-79e3aa1639d4"
      },
      "outputs": [
        {
          "data": {
            "text/plain": [
              "dtype('float64')"
            ]
          },
          "execution_count": 191,
          "metadata": {},
          "output_type": "execute_result"
        }
      ],
      "source": [
        "data['Price'] = data['Price'].replace(\"Everyone\", 0, regex=True)\n",
        "data['Price'] = data['Price'].apply(lambda v: float(str(v).replace(\"$\",\"\")))\n",
        "data['Price'].dtype"
      ]
    },
    {
      "cell_type": "code",
      "execution_count": 192,
      "metadata": {
        "colab": {
          "base_uri": "https://localhost:8080/"
        },
        "id": "T5VcdIT1bnwg",
        "outputId": "0c5ee05f-639e-4cf8-ae31-b538e7acb3ef"
      },
      "outputs": [
        {
          "data": {
            "text/plain": [
              "array(['Everyone', 'Teen', 'Everyone 10+', 'Mature 17+',\n",
              "       'Adults only 18+', 'Unrated', nan], dtype=object)"
            ]
          },
          "execution_count": 192,
          "metadata": {},
          "output_type": "execute_result"
        }
      ],
      "source": [
        "data['Content Rating'].unique()"
      ]
    },
    {
      "cell_type": "code",
      "execution_count": 193,
      "metadata": {
        "colab": {
          "base_uri": "https://localhost:8080/"
        },
        "id": "cXcLgy9AbpLN",
        "outputId": "1174a344-aaa8-4c0f-a797-99fffd4048f7"
      },
      "outputs": [
        {
          "data": {
            "text/plain": [
              "dtype('float64')"
            ]
          },
          "execution_count": 193,
          "metadata": {},
          "output_type": "execute_result"
        }
      ],
      "source": [
        "data['Content Rating'] = data['Content Rating'].apply(lambda v: str(v).replace(\"Adults only 18+\",\"18\").replace(\"Mature 17+\",\"18\").replace(\"Teen\",\"6\").replace(\"Unrated\",\"0\").replace(\"Everyone\",\"0\").replace(\"0 10+\", \"10\"))\n",
        "data['Content Rating'] = data['Content Rating'].astype('float')\n",
        "data['Content Rating'].dtype"
      ]
    },
    {
      "cell_type": "code",
      "execution_count": 194,
      "metadata": {
        "colab": {
          "base_uri": "https://localhost:8080/"
        },
        "id": "KlQPt79fbqR2",
        "outputId": "d1a74732-a2f5-4810-f431-20369b6a916b"
      },
      "outputs": [
        {
          "data": {
            "text/plain": [
              "App                 object\n",
              "Category          category\n",
              "Rating             float64\n",
              "Reviews            float64\n",
              "Size               float64\n",
              "Installs           float64\n",
              "Type              category\n",
              "Price              float64\n",
              "Content Rating     float64\n",
              "Genres            category\n",
              "Last Updated        object\n",
              "Current Ver         object\n",
              "Android Ver         object\n",
              "dtype: object"
            ]
          },
          "execution_count": 194,
          "metadata": {},
          "output_type": "execute_result"
        }
      ],
      "source": [
        "data.dtypes"
      ]
    },
    {
      "cell_type": "markdown",
      "metadata": {
        "id": "BQ9nQvsmfNeY"
      },
      "source": [
        "Посмотрим на сбалансированность классов"
      ]
    },
    {
      "cell_type": "code",
      "execution_count": 195,
      "metadata": {
        "colab": {
          "base_uri": "https://localhost:8080/",
          "height": 307
        },
        "id": "4JIfwlXie72i",
        "outputId": "8ca37a1b-3b3e-4b9b-feee-992420681189"
      },
      "outputs": [
        {
          "data": {
            "text/plain": [
              "<AxesSubplot: xlabel='Type'>"
            ]
          },
          "execution_count": 195,
          "metadata": {},
          "output_type": "execute_result"
        },
        {
          "data": {
            "image/png": "[encoded data removed]",
            "text/plain": [
              "<Figure size 640x480 with 1 Axes>"
            ]
          },
          "metadata": {},
          "output_type": "display_data"
        }
      ],
      "source": [
        "data.groupby(['Type']).size().plot(kind='bar') "
      ]
    },
    {
      "cell_type": "code",
      "execution_count": 196,
      "metadata": {
        "colab": {
          "base_uri": "https://localhost:8080/",
          "height": 1000
        },
        "id": "deAVOSYvcAfp",
        "outputId": "15f8adec-53e9-4abd-d430-01132c23d8c7"
      },
      "outputs": [
        {
          "data": {
            "text/plain": [
              "<seaborn.axisgrid.PairGrid at 0x22343c27550>"
            ]
          },
          "execution_count": 196,
          "metadata": {},
          "output_type": "execute_result"
        },
        {
          "data": {
            "image/png": "[encoded data removed]",
            "text/plain": [
              "<Figure size 1725.88x1500 with 42 Axes>"
            ]
          },
          "metadata": {},
          "output_type": "display_data"
        }
      ],
      "source": [
        "random_subset = np.random.choice(np.arange(data.shape[0]), size=100, replace=False)\n",
        "sns.pairplot(data.iloc[random_subset], hue='Category', diag_kind='hist')"
      ]
    },
    {
      "cell_type": "code",
      "execution_count": 197,
      "metadata": {
        "colab": {
          "base_uri": "https://localhost:8080/",
          "height": 238
        },
        "id": "KoW1D6o_cNiK",
        "outputId": "e227eeda-d6f1-4531-c547-1962aae7802b"
      },
      "outputs": [
        {
          "name": "stderr",
          "output_type": "stream",
          "text": [
            "C:\\Users\\Nick\\AppData\\Local\\Temp\\ipykernel_12968\\2627137660.py:1: FutureWarning: The default value of numeric_only in DataFrame.corr is deprecated. In a future version, it will default to False. Select only valid columns or specify the value of numeric_only to silence this warning.\n",
            "  data.corr()\n"
          ]
        },
        {
          "data": {
            "text/html": [
              "<div>\n",
              "<style scoped>\n",
              "    .dataframe tbody tr th:only-of-type {\n",
              "        vertical-align: middle;\n",
              "    }\n",
              "\n",
              "    .dataframe tbody tr th {\n",
              "        vertical-align: top;\n",
              "    }\n",
              "\n",
              "    .dataframe thead th {\n",
              "        text-align: right;\n",
              "    }\n",
              "</style>\n",
              "<table border=\"1\" class=\"dataframe\">\n",
              "  <thead>\n",
              "    <tr style=\"text-align: right;\">\n",
              "      <th></th>\n",
              "      <th>Rating</th>\n",
              "      <th>Reviews</th>\n",
              "      <th>Size</th>\n",
              "      <th>Installs</th>\n",
              "      <th>Price</th>\n",
              "      <th>Content Rating</th>\n",
              "    </tr>\n",
              "  </thead>\n",
              "  <tbody>\n",
              "    <tr>\n",
              "      <th>Rating</th>\n",
              "      <td>1.000000</td>\n",
              "      <td>0.067645</td>\n",
              "      <td>0.016530</td>\n",
              "      <td>0.051355</td>\n",
              "      <td>-0.021176</td>\n",
              "      <td>-0.001377</td>\n",
              "    </tr>\n",
              "    <tr>\n",
              "      <th>Reviews</th>\n",
              "      <td>0.067645</td>\n",
              "      <td>1.000000</td>\n",
              "      <td>0.033633</td>\n",
              "      <td>0.643122</td>\n",
              "      <td>-0.009672</td>\n",
              "      <td>0.058179</td>\n",
              "    </tr>\n",
              "    <tr>\n",
              "      <th>Size</th>\n",
              "      <td>0.016530</td>\n",
              "      <td>0.033633</td>\n",
              "      <td>1.000000</td>\n",
              "      <td>0.014753</td>\n",
              "      <td>0.014348</td>\n",
              "      <td>-0.017409</td>\n",
              "    </tr>\n",
              "    <tr>\n",
              "      <th>Installs</th>\n",
              "      <td>0.051355</td>\n",
              "      <td>0.643122</td>\n",
              "      <td>0.014753</td>\n",
              "      <td>1.000000</td>\n",
              "      <td>-0.011689</td>\n",
              "      <td>0.030702</td>\n",
              "    </tr>\n",
              "    <tr>\n",
              "      <th>Price</th>\n",
              "      <td>-0.021176</td>\n",
              "      <td>-0.009672</td>\n",
              "      <td>0.014348</td>\n",
              "      <td>-0.011689</td>\n",
              "      <td>1.000000</td>\n",
              "      <td>-0.017587</td>\n",
              "    </tr>\n",
              "    <tr>\n",
              "      <th>Content Rating</th>\n",
              "      <td>-0.001377</td>\n",
              "      <td>0.058179</td>\n",
              "      <td>-0.017409</td>\n",
              "      <td>0.030702</td>\n",
              "      <td>-0.017587</td>\n",
              "      <td>1.000000</td>\n",
              "    </tr>\n",
              "  </tbody>\n",
              "</table>\n",
              "</div>"
            ],
            "text/plain": [
              "                  Rating   Reviews      Size  Installs     Price  \\\n",
              "Rating          1.000000  0.067645  0.016530  0.051355 -0.021176   \n",
              "Reviews         0.067645  1.000000  0.033633  0.643122 -0.009672   \n",
              "Size            0.016530  0.033633  1.000000  0.014753  0.014348   \n",
              "Installs        0.051355  0.643122  0.014753  1.000000 -0.011689   \n",
              "Price          -0.021176 -0.009672  0.014348 -0.011689  1.000000   \n",
              "Content Rating -0.001377  0.058179 -0.017409  0.030702 -0.017587   \n",
              "\n",
              "                Content Rating  \n",
              "Rating               -0.001377  \n",
              "Reviews               0.058179  \n",
              "Size                 -0.017409  \n",
              "Installs              0.030702  \n",
              "Price                -0.017587  \n",
              "Content Rating        1.000000  "
            ]
          },
          "execution_count": 197,
          "metadata": {},
          "output_type": "execute_result"
        }
      ],
      "source": [
        "data.corr()"
      ]
    },
    {
      "cell_type": "code",
      "execution_count": 198,
      "metadata": {
        "colab": {
          "base_uri": "https://localhost:8080/",
          "height": 351
        },
        "id": "AAiSfdxxcPHY",
        "outputId": "7c15267b-261c-47fe-ff20-81f858116e51"
      },
      "outputs": [
        {
          "name": "stderr",
          "output_type": "stream",
          "text": [
            "C:\\Users\\Nick\\AppData\\Local\\Temp\\ipykernel_12968\\1886614439.py:1: FutureWarning: The default value of numeric_only in DataFrame.corr is deprecated. In a future version, it will default to False. Select only valid columns or specify the value of numeric_only to silence this warning.\n",
            "  sns.heatmap(data.corr(), square=True, cmap='coolwarm')\n"
          ]
        },
        {
          "data": {
            "text/plain": [
              "<AxesSubplot: >"
            ]
          },
          "execution_count": 198,
          "metadata": {},
          "output_type": "execute_result"
        },
        {
          "data": {
            "image/png": "[encoded data removed]",
            "text/plain": [
              "<Figure size 640x480 with 2 Axes>"
            ]
          },
          "metadata": {},
          "output_type": "display_data"
        }
      ],
      "source": [
        "sns.heatmap(data.corr(), square=True, cmap='coolwarm')"
      ]
    },
    {
      "cell_type": "markdown",
      "metadata": {
        "id": "yQIRk_kxcQ76"
      },
      "source": [
        "Как видно из матрицы корреляции и диаграмм рассеивания, признаки слабо коррелируют друг с другом."
      ]
    },
    {
      "cell_type": "markdown",
      "metadata": {
        "id": "_CvmtjkvSt6T"
      },
      "source": [
        "## Готовим данные"
      ]
    },
    {
      "cell_type": "markdown",
      "metadata": {
        "id": "ZWrTl7H2cmE_"
      },
      "source": [
        "Избавимся от пропущенных значений"
      ]
    },
    {
      "cell_type": "code",
      "execution_count": 199,
      "metadata": {
        "colab": {
          "base_uri": "https://localhost:8080/"
        },
        "id": "-ShelI1ncnR0",
        "outputId": "d8912000-62be-41a2-b862-bf46cbea8e95"
      },
      "outputs": [
        {
          "data": {
            "text/plain": [
              "App                  0\n",
              "Category             1\n",
              "Rating            1474\n",
              "Reviews              0\n",
              "Size              1695\n",
              "Installs             1\n",
              "Type                 1\n",
              "Price                0\n",
              "Content Rating       1\n",
              "Genres               0\n",
              "Last Updated         0\n",
              "Current Ver          8\n",
              "Android Ver          3\n",
              "dtype: int64"
            ]
          },
          "execution_count": 199,
          "metadata": {},
          "output_type": "execute_result"
        }
      ],
      "source": [
        "data.isna().sum()"
      ]
    },
    {
      "cell_type": "code",
      "execution_count": 200,
      "metadata": {
        "id": "D1avQqi2cqbV"
      },
      "outputs": [],
      "source": [
        "data.drop_duplicates(subset='App', inplace=True)\n",
        "data.dropna(axis=0, how=\"all\", subset=['Android Ver'], inplace=True)\n",
        "data.dropna(axis=0, how=\"all\", subset=['Category'], inplace=True)\n",
        "data.dropna(axis=0, how=\"all\", subset=['Current Ver'], inplace=True)\n",
        "data.dropna(axis=0, how=\"all\", subset=['Type'], inplace=True)"
      ]
    },
    {
      "cell_type": "code",
      "execution_count": 201,
      "metadata": {
        "colab": {
          "base_uri": "https://localhost:8080/"
        },
        "id": "x-xrre_pcvh1",
        "outputId": "d3371711-5208-477a-c132-fcd6b7c3a58f"
      },
      "outputs": [
        {
          "data": {
            "text/plain": [
              "App                  0\n",
              "Category             0\n",
              "Rating            1458\n",
              "Reviews              0\n",
              "Size              1226\n",
              "Installs             0\n",
              "Type                 0\n",
              "Price                0\n",
              "Content Rating       0\n",
              "Genres               0\n",
              "Last Updated         0\n",
              "Current Ver          0\n",
              "Android Ver          0\n",
              "dtype: int64"
            ]
          },
          "execution_count": 201,
          "metadata": {},
          "output_type": "execute_result"
        }
      ],
      "source": [
        "data.isna().sum()"
      ]
    },
    {
      "cell_type": "code",
      "execution_count": 202,
      "metadata": {
        "id": "31W1WCM8cw-J"
      },
      "outputs": [],
      "source": [
        "del data['Android Ver']\n",
        "del data['Current Ver']\n",
        "del data['App']\n",
        "del data['Last Updated']"
      ]
    },
    {
      "cell_type": "markdown",
      "metadata": {
        "id": "P0cj1YMSczjO"
      },
      "source": [
        "Избавимся от выбросов"
      ]
    },
    {
      "cell_type": "code",
      "execution_count": 203,
      "metadata": {
        "colab": {
          "base_uri": "https://localhost:8080/",
          "height": 296
        },
        "id": "_VyOxDOac8Ek",
        "outputId": "7e43e09b-5382-4956-a1b2-026692dd932d"
      },
      "outputs": [
        {
          "data": {
            "text/plain": [
              "Text(0, 0.5, 'Rating')"
            ]
          },
          "execution_count": 203,
          "metadata": {},
          "output_type": "execute_result"
        },
        {
          "data": {
            "image/png": "[encoded data removed]",
            "text/plain": [
              "<Figure size 640x480 with 1 Axes>"
            ]
          },
          "metadata": {},
          "output_type": "display_data"
        }
      ],
      "source": [
        "plt.scatter(data['Price'], data['Rating'])\n",
        "plt.xlabel('Price')\n",
        "plt.ylabel('Rating')"
      ]
    },
    {
      "cell_type": "code",
      "execution_count": 204,
      "metadata": {
        "colab": {
          "base_uri": "https://localhost:8080/"
        },
        "id": "8TRv5Nfzc-XD",
        "outputId": "90466a3a-1026-4716-e0b3-cfe656cd92b6"
      },
      "outputs": [
        {
          "data": {
            "text/plain": [
              "0.05      0.00\n",
              "0.10      0.00\n",
              "0.20      0.00\n",
              "0.30      0.00\n",
              "0.40      0.00\n",
              "0.50      0.00\n",
              "0.70      0.00\n",
              "0.90      0.00\n",
              "0.95      1.99\n",
              "1.00    400.00\n",
              "Name: Price, dtype: float64"
            ]
          },
          "execution_count": 204,
          "metadata": {},
          "output_type": "execute_result"
        }
      ],
      "source": [
        "data['Price'].quantile([.05,.1,.2,.3,.4,.50,.70, .90, .95, 1])"
      ]
    },
    {
      "cell_type": "code",
      "execution_count": 205,
      "metadata": {
        "colab": {
          "base_uri": "https://localhost:8080/",
          "height": 296
        },
        "id": "Ytf7d5PGc_8Y",
        "outputId": "6614edc0-a531-404c-e0bf-d5494eafc2de"
      },
      "outputs": [
        {
          "data": {
            "text/plain": [
              "Text(0, 0.5, 'Rating')"
            ]
          },
          "execution_count": 205,
          "metadata": {},
          "output_type": "execute_result"
        },
        {
          "data": {
            "image/png": "[encoded data removed]",
            "text/plain": [
              "<Figure size 640x480 with 1 Axes>"
            ]
          },
          "metadata": {},
          "output_type": "display_data"
        }
      ],
      "source": [
        "plt.scatter(data['Installs'], data['Rating'])\n",
        "plt.xlabel('Installs')\n",
        "plt.ylabel('Rating')"
      ]
    },
    {
      "cell_type": "code",
      "execution_count": 206,
      "metadata": {
        "colab": {
          "base_uri": "https://localhost:8080/"
        },
        "id": "n32whp1MdB-g",
        "outputId": "5d57f2ac-8db4-454c-bd85-578fae87eb47"
      },
      "outputs": [
        {
          "data": {
            "text/plain": [
              "0.005    1.000000e+00\n",
              "0.100    1.000000e+02\n",
              "0.200    1.000000e+03\n",
              "0.300    5.000000e+03\n",
              "0.400    1.000000e+04\n",
              "0.500    1.000000e+05\n",
              "0.700    1.000000e+06\n",
              "0.800    5.000000e+06\n",
              "0.900    1.000000e+07\n",
              "0.950    1.000000e+07\n",
              "0.960    5.000000e+07\n",
              "0.980    1.000000e+08\n",
              "1.000    1.000000e+09\n",
              "Name: Installs, dtype: float64"
            ]
          },
          "execution_count": 206,
          "metadata": {},
          "output_type": "execute_result"
        }
      ],
      "source": [
        "data['Installs'].quantile([.005,.1,.2,.3,.4,.50,.70, .8, .90, .95, .96, .98, 1])"
      ]
    },
    {
      "cell_type": "code",
      "execution_count": 207,
      "metadata": {
        "colab": {
          "base_uri": "https://localhost:8080/",
          "height": 296
        },
        "id": "mL45VHNHdDsw",
        "outputId": "38d774cf-191e-42e3-aeaf-185f49197a70"
      },
      "outputs": [
        {
          "data": {
            "text/plain": [
              "Text(0, 0.5, 'Size')"
            ]
          },
          "execution_count": 207,
          "metadata": {},
          "output_type": "execute_result"
        },
        {
          "data": {
            "image/png": "[encoded data removed]",
            "text/plain": [
              "<Figure size 640x480 with 1 Axes>"
            ]
          },
          "metadata": {},
          "output_type": "display_data"
        }
      ],
      "source": [
        "plt.scatter(x = data['Installs'], y = data['Size'])\n",
        "plt.xlabel('Installs')\n",
        "plt.ylabel('Size')"
      ]
    },
    {
      "cell_type": "code",
      "execution_count": 208,
      "metadata": {
        "colab": {
          "base_uri": "https://localhost:8080/"
        },
        "id": "DQMefjHedFh8",
        "outputId": "3da30af1-879a-4784-9853-90e09a28539e"
      },
      "outputs": [
        {
          "data": {
            "text/plain": [
              "0.05       2.1\n",
              "0.10       2.9\n",
              "0.20       4.3\n",
              "0.30       6.5\n",
              "0.40       9.5\n",
              "0.50      14.0\n",
              "0.70      27.0\n",
              "0.90      62.0\n",
              "0.95      91.0\n",
              "0.98     364.0\n",
              "1.00    1020.0\n",
              "Name: Size, dtype: float64"
            ]
          },
          "execution_count": 208,
          "metadata": {},
          "output_type": "execute_result"
        }
      ],
      "source": [
        "data['Size'].quantile([.05,.1,.2,.3,.4,.50,.70, .90, .95, .98, 1])"
      ]
    },
    {
      "cell_type": "code",
      "execution_count": 209,
      "metadata": {
        "colab": {
          "base_uri": "https://localhost:8080/"
        },
        "id": "Yy6OYoy0dHma",
        "outputId": "6b5ebda8-0e5e-4d2d-969c-cb6ab3ac2741"
      },
      "outputs": [
        {
          "data": {
            "text/plain": [
              "(9113, 9)"
            ]
          },
          "execution_count": 209,
          "metadata": {},
          "output_type": "execute_result"
        }
      ],
      "source": [
        "rows_to_drop = data[\n",
        "    (data['Price'] > data['Price'].quantile(0.995)) | \n",
        "    (data['Size'] > data['Size'].quantile(0.995)) | \n",
        "    (data['Installs']  > data['Installs' ].quantile(0.95)) |\n",
        "    (data['Installs'] == 0)].index\n",
        "data = data.drop(rows_to_drop)\n",
        "data.shape"
      ]
    },
    {
      "cell_type": "markdown",
      "metadata": {
        "id": "s4uoAPgsdNWP"
      },
      "source": [
        "Избавляемся от оставшихся пропущенных значений при помощи медианы"
      ]
    },
    {
      "cell_type": "code",
      "execution_count": 210,
      "metadata": {
        "colab": {
          "base_uri": "https://localhost:8080/"
        },
        "id": "6xMRvqBodP1B",
        "outputId": "0a65bf50-a66b-478d-a649-bc14b9c4d3d2"
      },
      "outputs": [
        {
          "data": {
            "text/plain": [
              "Category          0\n",
              "Rating            0\n",
              "Reviews           0\n",
              "Size              0\n",
              "Installs          0\n",
              "Type              0\n",
              "Price             0\n",
              "Content Rating    0\n",
              "Genres            0\n",
              "dtype: int64"
            ]
          },
          "execution_count": 210,
          "metadata": {},
          "output_type": "execute_result"
        }
      ],
      "source": [
        "col = [\"Rating\", \"Size\"]\n",
        "data.fillna(data[col].median(axis = 0), axis=0 , inplace=True)\n",
        "data.isna().sum()"
      ]
    },
    {
      "cell_type": "code",
      "execution_count": 211,
      "metadata": {
        "colab": {
          "base_uri": "https://localhost:8080/"
        },
        "id": "Kf5ZFSSndOf3",
        "outputId": "c0ef972d-86d3-4730-e269-8e4a55ad8cab"
      },
      "outputs": [
        {
          "data": {
            "text/plain": [
              "Category          0\n",
              "Rating            0\n",
              "Reviews           0\n",
              "Size              0\n",
              "Installs          0\n",
              "Type              0\n",
              "Price             0\n",
              "Content Rating    0\n",
              "Genres            0\n",
              "dtype: int64"
            ]
          },
          "execution_count": 211,
          "metadata": {},
          "output_type": "execute_result"
        }
      ],
      "source": [
        "data.isna().sum()"
      ]
    },
    {
      "cell_type": "markdown",
      "metadata": {
        "id": "LPhy1n0Jdg62"
      },
      "source": [
        "Удалим признак"
      ]
    },
    {
      "cell_type": "code",
      "execution_count": 212,
      "metadata": {
        "colab": {
          "base_uri": "https://localhost:8080/"
        },
        "id": "7r7tnii7dipq",
        "outputId": "c61da390-e15e-4aea-cdcd-1078a9a59f74"
      },
      "outputs": [
        {
          "data": {
            "text/plain": [
              "['Art & Design', 'Art & Design;Pretend Play', 'Art & Design;Creativity', 'Art & Design;Action & Adventure', 'Auto & Vehicles', ..., 'Role Playing;Brain Games', 'Strategy;Education', 'Racing;Pretend Play', 'Communication;Creativity', 'Strategy;Creativity']\n",
              "Length: 118\n",
              "Categories (120, object): ['Action', 'Action;Action & Adventure', 'Adventure', 'Adventure;Action & Adventure', ..., 'Video Players & Editors;Creativity', 'Video Players & Editors;Music & Video', 'Weather', 'Word']"
            ]
          },
          "execution_count": 212,
          "metadata": {},
          "output_type": "execute_result"
        }
      ],
      "source": [
        "data['Genres'].unique()"
      ]
    },
    {
      "cell_type": "code",
      "execution_count": 213,
      "metadata": {
        "id": "zxvCtexAdk_S"
      },
      "outputs": [],
      "source": [
        "del data['Genres']"
      ]
    },
    {
      "cell_type": "markdown",
      "metadata": {
        "id": "ifEJB3Vhdncs"
      },
      "source": [
        "Применим метод бинаризации"
      ]
    },
    {
      "cell_type": "code",
      "execution_count": 214,
      "metadata": {
        "colab": {
          "base_uri": "https://localhost:8080/"
        },
        "id": "nX5aqFAFdoqO",
        "outputId": "ce5ca597-441c-45c9-b992-c78bbd273abc"
      },
      "outputs": [
        {
          "data": {
            "text/plain": [
              "['ART_AND_DESIGN', 'AUTO_AND_VEHICLES', 'BEAUTY', 'BOOKS_AND_REFERENCE', 'BUSINESS', ..., 'PARENTING', 'WEATHER', 'VIDEO_PLAYERS', 'NEWS_AND_MAGAZINES', 'MAPS_AND_NAVIGATION']\n",
              "Length: 33\n",
              "Categories (34, object): ['1.9', 'ART_AND_DESIGN', 'AUTO_AND_VEHICLES', 'BEAUTY', ..., 'TOOLS', 'TRAVEL_AND_LOCAL', 'VIDEO_PLAYERS', 'WEATHER']"
            ]
          },
          "execution_count": 214,
          "metadata": {},
          "output_type": "execute_result"
        }
      ],
      "source": [
        "data['Category'].unique()"
      ]
    },
    {
      "cell_type": "code",
      "execution_count": 215,
      "metadata": {
        "id": "zKjdqUA3dsLM"
      },
      "outputs": [],
      "source": [
        "dummies = pd.get_dummies(data['Category'])"
      ]
    },
    {
      "cell_type": "code",
      "execution_count": 216,
      "metadata": {
        "colab": {
          "base_uri": "https://localhost:8080/",
          "height": 300
        },
        "id": "asfFuLHbduSY",
        "outputId": "0c82f450-2159-4ca8-e79d-36e525935cb6"
      },
      "outputs": [
        {
          "data": {
            "text/html": [
              "<div>\n",
              "<style scoped>\n",
              "    .dataframe tbody tr th:only-of-type {\n",
              "        vertical-align: middle;\n",
              "    }\n",
              "\n",
              "    .dataframe tbody tr th {\n",
              "        vertical-align: top;\n",
              "    }\n",
              "\n",
              "    .dataframe thead th {\n",
              "        text-align: right;\n",
              "    }\n",
              "</style>\n",
              "<table border=\"1\" class=\"dataframe\">\n",
              "  <thead>\n",
              "    <tr style=\"text-align: right;\">\n",
              "      <th></th>\n",
              "      <th>1.9</th>\n",
              "      <th>ART_AND_DESIGN</th>\n",
              "      <th>AUTO_AND_VEHICLES</th>\n",
              "      <th>BEAUTY</th>\n",
              "      <th>BOOKS_AND_REFERENCE</th>\n",
              "      <th>BUSINESS</th>\n",
              "      <th>COMICS</th>\n",
              "      <th>COMMUNICATION</th>\n",
              "      <th>DATING</th>\n",
              "      <th>EDUCATION</th>\n",
              "      <th>...</th>\n",
              "      <th>PERSONALIZATION</th>\n",
              "      <th>PHOTOGRAPHY</th>\n",
              "      <th>PRODUCTIVITY</th>\n",
              "      <th>SHOPPING</th>\n",
              "      <th>SOCIAL</th>\n",
              "      <th>SPORTS</th>\n",
              "      <th>TOOLS</th>\n",
              "      <th>TRAVEL_AND_LOCAL</th>\n",
              "      <th>VIDEO_PLAYERS</th>\n",
              "      <th>WEATHER</th>\n",
              "    </tr>\n",
              "  </thead>\n",
              "  <tbody>\n",
              "    <tr>\n",
              "      <th>0</th>\n",
              "      <td>0</td>\n",
              "      <td>1</td>\n",
              "      <td>0</td>\n",
              "      <td>0</td>\n",
              "      <td>0</td>\n",
              "      <td>0</td>\n",
              "      <td>0</td>\n",
              "      <td>0</td>\n",
              "      <td>0</td>\n",
              "      <td>0</td>\n",
              "      <td>...</td>\n",
              "      <td>0</td>\n",
              "      <td>0</td>\n",
              "      <td>0</td>\n",
              "      <td>0</td>\n",
              "      <td>0</td>\n",
              "      <td>0</td>\n",
              "      <td>0</td>\n",
              "      <td>0</td>\n",
              "      <td>0</td>\n",
              "      <td>0</td>\n",
              "    </tr>\n",
              "    <tr>\n",
              "      <th>1</th>\n",
              "      <td>0</td>\n",
              "      <td>1</td>\n",
              "      <td>0</td>\n",
              "      <td>0</td>\n",
              "      <td>0</td>\n",
              "      <td>0</td>\n",
              "      <td>0</td>\n",
              "      <td>0</td>\n",
              "      <td>0</td>\n",
              "      <td>0</td>\n",
              "      <td>...</td>\n",
              "      <td>0</td>\n",
              "      <td>0</td>\n",
              "      <td>0</td>\n",
              "      <td>0</td>\n",
              "      <td>0</td>\n",
              "      <td>0</td>\n",
              "      <td>0</td>\n",
              "      <td>0</td>\n",
              "      <td>0</td>\n",
              "      <td>0</td>\n",
              "    </tr>\n",
              "    <tr>\n",
              "      <th>2</th>\n",
              "      <td>0</td>\n",
              "      <td>1</td>\n",
              "      <td>0</td>\n",
              "      <td>0</td>\n",
              "      <td>0</td>\n",
              "      <td>0</td>\n",
              "      <td>0</td>\n",
              "      <td>0</td>\n",
              "      <td>0</td>\n",
              "      <td>0</td>\n",
              "      <td>...</td>\n",
              "      <td>0</td>\n",
              "      <td>0</td>\n",
              "      <td>0</td>\n",
              "      <td>0</td>\n",
              "      <td>0</td>\n",
              "      <td>0</td>\n",
              "      <td>0</td>\n",
              "      <td>0</td>\n",
              "      <td>0</td>\n",
              "      <td>0</td>\n",
              "    </tr>\n",
              "    <tr>\n",
              "      <th>4</th>\n",
              "      <td>0</td>\n",
              "      <td>1</td>\n",
              "      <td>0</td>\n",
              "      <td>0</td>\n",
              "      <td>0</td>\n",
              "      <td>0</td>\n",
              "      <td>0</td>\n",
              "      <td>0</td>\n",
              "      <td>0</td>\n",
              "      <td>0</td>\n",
              "      <td>...</td>\n",
              "      <td>0</td>\n",
              "      <td>0</td>\n",
              "      <td>0</td>\n",
              "      <td>0</td>\n",
              "      <td>0</td>\n",
              "      <td>0</td>\n",
              "      <td>0</td>\n",
              "      <td>0</td>\n",
              "      <td>0</td>\n",
              "      <td>0</td>\n",
              "    </tr>\n",
              "    <tr>\n",
              "      <th>5</th>\n",
              "      <td>0</td>\n",
              "      <td>1</td>\n",
              "      <td>0</td>\n",
              "      <td>0</td>\n",
              "      <td>0</td>\n",
              "      <td>0</td>\n",
              "      <td>0</td>\n",
              "      <td>0</td>\n",
              "      <td>0</td>\n",
              "      <td>0</td>\n",
              "      <td>...</td>\n",
              "      <td>0</td>\n",
              "      <td>0</td>\n",
              "      <td>0</td>\n",
              "      <td>0</td>\n",
              "      <td>0</td>\n",
              "      <td>0</td>\n",
              "      <td>0</td>\n",
              "      <td>0</td>\n",
              "      <td>0</td>\n",
              "      <td>0</td>\n",
              "    </tr>\n",
              "  </tbody>\n",
              "</table>\n",
              "<p>5 rows × 34 columns</p>\n",
              "</div>"
            ],
            "text/plain": [
              "   1.9  ART_AND_DESIGN  AUTO_AND_VEHICLES  BEAUTY  BOOKS_AND_REFERENCE  \\\n",
              "0    0               1                  0       0                    0   \n",
              "1    0               1                  0       0                    0   \n",
              "2    0               1                  0       0                    0   \n",
              "4    0               1                  0       0                    0   \n",
              "5    0               1                  0       0                    0   \n",
              "\n",
              "   BUSINESS  COMICS  COMMUNICATION  DATING  EDUCATION  ...  PERSONALIZATION  \\\n",
              "0         0       0              0       0          0  ...                0   \n",
              "1         0       0              0       0          0  ...                0   \n",
              "2         0       0              0       0          0  ...                0   \n",
              "4         0       0              0       0          0  ...                0   \n",
              "5         0       0              0       0          0  ...                0   \n",
              "\n",
              "   PHOTOGRAPHY  PRODUCTIVITY  SHOPPING  SOCIAL  SPORTS  TOOLS  \\\n",
              "0            0             0         0       0       0      0   \n",
              "1            0             0         0       0       0      0   \n",
              "2            0             0         0       0       0      0   \n",
              "4            0             0         0       0       0      0   \n",
              "5            0             0         0       0       0      0   \n",
              "\n",
              "   TRAVEL_AND_LOCAL  VIDEO_PLAYERS  WEATHER  \n",
              "0                 0              0        0  \n",
              "1                 0              0        0  \n",
              "2                 0              0        0  \n",
              "4                 0              0        0  \n",
              "5                 0              0        0  \n",
              "\n",
              "[5 rows x 34 columns]"
            ]
          },
          "execution_count": 216,
          "metadata": {},
          "output_type": "execute_result"
        }
      ],
      "source": [
        "dummies.head()"
      ]
    },
    {
      "cell_type": "code",
      "execution_count": 217,
      "metadata": {
        "id": "t9Ee6FMWdwCu"
      },
      "outputs": [],
      "source": [
        "data = pd.concat((data, dummies), axis=1)\n",
        "data = data.drop(['Category'], axis=1)"
      ]
    },
    {
      "cell_type": "markdown",
      "metadata": {
        "id": "Otk0DD9WdzpD"
      },
      "source": [
        "Заменим на числовой"
      ]
    },
    {
      "cell_type": "code",
      "execution_count": 218,
      "metadata": {
        "colab": {
          "base_uri": "https://localhost:8080/"
        },
        "id": "_caFLczTdyQk",
        "outputId": "a089ccf1-de45-4dd6-946c-ea12a41a990e"
      },
      "outputs": [
        {
          "data": {
            "text/plain": [
              "['Free', 'Paid']\n",
              "Categories (3, object): ['0', 'Free', 'Paid']"
            ]
          },
          "execution_count": 218,
          "metadata": {},
          "output_type": "execute_result"
        }
      ],
      "source": [
        "data['Type'].unique()"
      ]
    },
    {
      "cell_type": "code",
      "execution_count": 219,
      "metadata": {
        "id": "VfOvDj54d1CF"
      },
      "outputs": [],
      "source": [
        "data['Type'] = pd.factorize(data['Type'])[0]"
      ]
    },
    {
      "cell_type": "code",
      "execution_count": 220,
      "metadata": {
        "colab": {
          "base_uri": "https://localhost:8080/",
          "height": 317
        },
        "id": "ocoxgZ4Dd2uQ",
        "outputId": "ec0e1664-98c7-43dc-d05d-b1d0b0112d7b"
      },
      "outputs": [
        {
          "data": {
            "text/html": [
              "<div>\n",
              "<style scoped>\n",
              "    .dataframe tbody tr th:only-of-type {\n",
              "        vertical-align: middle;\n",
              "    }\n",
              "\n",
              "    .dataframe tbody tr th {\n",
              "        vertical-align: top;\n",
              "    }\n",
              "\n",
              "    .dataframe thead th {\n",
              "        text-align: right;\n",
              "    }\n",
              "</style>\n",
              "<table border=\"1\" class=\"dataframe\">\n",
              "  <thead>\n",
              "    <tr style=\"text-align: right;\">\n",
              "      <th></th>\n",
              "      <th>Rating</th>\n",
              "      <th>Reviews</th>\n",
              "      <th>Size</th>\n",
              "      <th>Installs</th>\n",
              "      <th>Type</th>\n",
              "      <th>Price</th>\n",
              "      <th>Content Rating</th>\n",
              "      <th>1.9</th>\n",
              "      <th>ART_AND_DESIGN</th>\n",
              "      <th>AUTO_AND_VEHICLES</th>\n",
              "      <th>...</th>\n",
              "      <th>PERSONALIZATION</th>\n",
              "      <th>PHOTOGRAPHY</th>\n",
              "      <th>PRODUCTIVITY</th>\n",
              "      <th>SHOPPING</th>\n",
              "      <th>SOCIAL</th>\n",
              "      <th>SPORTS</th>\n",
              "      <th>TOOLS</th>\n",
              "      <th>TRAVEL_AND_LOCAL</th>\n",
              "      <th>VIDEO_PLAYERS</th>\n",
              "      <th>WEATHER</th>\n",
              "    </tr>\n",
              "  </thead>\n",
              "  <tbody>\n",
              "    <tr>\n",
              "      <th>0</th>\n",
              "      <td>4.1</td>\n",
              "      <td>159.0</td>\n",
              "      <td>19.0</td>\n",
              "      <td>10000.0</td>\n",
              "      <td>0</td>\n",
              "      <td>0.0</td>\n",
              "      <td>0.0</td>\n",
              "      <td>0</td>\n",
              "      <td>1</td>\n",
              "      <td>0</td>\n",
              "      <td>...</td>\n",
              "      <td>0</td>\n",
              "      <td>0</td>\n",
              "      <td>0</td>\n",
              "      <td>0</td>\n",
              "      <td>0</td>\n",
              "      <td>0</td>\n",
              "      <td>0</td>\n",
              "      <td>0</td>\n",
              "      <td>0</td>\n",
              "      <td>0</td>\n",
              "    </tr>\n",
              "    <tr>\n",
              "      <th>1</th>\n",
              "      <td>3.9</td>\n",
              "      <td>967.0</td>\n",
              "      <td>14.0</td>\n",
              "      <td>500000.0</td>\n",
              "      <td>0</td>\n",
              "      <td>0.0</td>\n",
              "      <td>0.0</td>\n",
              "      <td>0</td>\n",
              "      <td>1</td>\n",
              "      <td>0</td>\n",
              "      <td>...</td>\n",
              "      <td>0</td>\n",
              "      <td>0</td>\n",
              "      <td>0</td>\n",
              "      <td>0</td>\n",
              "      <td>0</td>\n",
              "      <td>0</td>\n",
              "      <td>0</td>\n",
              "      <td>0</td>\n",
              "      <td>0</td>\n",
              "      <td>0</td>\n",
              "    </tr>\n",
              "    <tr>\n",
              "      <th>2</th>\n",
              "      <td>4.7</td>\n",
              "      <td>87510.0</td>\n",
              "      <td>8.7</td>\n",
              "      <td>5000000.0</td>\n",
              "      <td>0</td>\n",
              "      <td>0.0</td>\n",
              "      <td>0.0</td>\n",
              "      <td>0</td>\n",
              "      <td>1</td>\n",
              "      <td>0</td>\n",
              "      <td>...</td>\n",
              "      <td>0</td>\n",
              "      <td>0</td>\n",
              "      <td>0</td>\n",
              "      <td>0</td>\n",
              "      <td>0</td>\n",
              "      <td>0</td>\n",
              "      <td>0</td>\n",
              "      <td>0</td>\n",
              "      <td>0</td>\n",
              "      <td>0</td>\n",
              "    </tr>\n",
              "    <tr>\n",
              "      <th>4</th>\n",
              "      <td>4.3</td>\n",
              "      <td>967.0</td>\n",
              "      <td>2.8</td>\n",
              "      <td>100000.0</td>\n",
              "      <td>0</td>\n",
              "      <td>0.0</td>\n",
              "      <td>0.0</td>\n",
              "      <td>0</td>\n",
              "      <td>1</td>\n",
              "      <td>0</td>\n",
              "      <td>...</td>\n",
              "      <td>0</td>\n",
              "      <td>0</td>\n",
              "      <td>0</td>\n",
              "      <td>0</td>\n",
              "      <td>0</td>\n",
              "      <td>0</td>\n",
              "      <td>0</td>\n",
              "      <td>0</td>\n",
              "      <td>0</td>\n",
              "      <td>0</td>\n",
              "    </tr>\n",
              "    <tr>\n",
              "      <th>5</th>\n",
              "      <td>4.4</td>\n",
              "      <td>167.0</td>\n",
              "      <td>5.6</td>\n",
              "      <td>50000.0</td>\n",
              "      <td>0</td>\n",
              "      <td>0.0</td>\n",
              "      <td>0.0</td>\n",
              "      <td>0</td>\n",
              "      <td>1</td>\n",
              "      <td>0</td>\n",
              "      <td>...</td>\n",
              "      <td>0</td>\n",
              "      <td>0</td>\n",
              "      <td>0</td>\n",
              "      <td>0</td>\n",
              "      <td>0</td>\n",
              "      <td>0</td>\n",
              "      <td>0</td>\n",
              "      <td>0</td>\n",
              "      <td>0</td>\n",
              "      <td>0</td>\n",
              "    </tr>\n",
              "  </tbody>\n",
              "</table>\n",
              "<p>5 rows × 41 columns</p>\n",
              "</div>"
            ],
            "text/plain": [
              "   Rating  Reviews  Size   Installs  Type  Price  Content Rating  1.9  \\\n",
              "0     4.1    159.0  19.0    10000.0     0    0.0             0.0    0   \n",
              "1     3.9    967.0  14.0   500000.0     0    0.0             0.0    0   \n",
              "2     4.7  87510.0   8.7  5000000.0     0    0.0             0.0    0   \n",
              "4     4.3    967.0   2.8   100000.0     0    0.0             0.0    0   \n",
              "5     4.4    167.0   5.6    50000.0     0    0.0             0.0    0   \n",
              "\n",
              "   ART_AND_DESIGN  AUTO_AND_VEHICLES  ...  PERSONALIZATION  PHOTOGRAPHY  \\\n",
              "0               1                  0  ...                0            0   \n",
              "1               1                  0  ...                0            0   \n",
              "2               1                  0  ...                0            0   \n",
              "4               1                  0  ...                0            0   \n",
              "5               1                  0  ...                0            0   \n",
              "\n",
              "   PRODUCTIVITY  SHOPPING  SOCIAL  SPORTS  TOOLS  TRAVEL_AND_LOCAL  \\\n",
              "0             0         0       0       0      0                 0   \n",
              "1             0         0       0       0      0                 0   \n",
              "2             0         0       0       0      0                 0   \n",
              "4             0         0       0       0      0                 0   \n",
              "5             0         0       0       0      0                 0   \n",
              "\n",
              "   VIDEO_PLAYERS  WEATHER  \n",
              "0              0        0  \n",
              "1              0        0  \n",
              "2              0        0  \n",
              "4              0        0  \n",
              "5              0        0  \n",
              "\n",
              "[5 rows x 41 columns]"
            ]
          },
          "execution_count": 220,
          "metadata": {},
          "output_type": "execute_result"
        }
      ],
      "source": [
        "data.head()"
      ]
    },
    {
      "cell_type": "markdown",
      "metadata": {
        "id": "lJnl_6mgd51j"
      },
      "source": [
        "**Нормализация**"
      ]
    },
    {
      "cell_type": "code",
      "execution_count": 221,
      "metadata": {},
      "outputs": [],
      "source": [
        "data.drop(\"1.9\", axis=1, inplace=True)"
      ]
    },
    {
      "cell_type": "code",
      "execution_count": 222,
      "metadata": {
        "id": "2D0lMNred76e"
      },
      "outputs": [],
      "source": [
        "data = (data - data.min(axis=0)) / (data.max(axis=0) - data.min(axis=0))"
      ]
    },
    {
      "cell_type": "code",
      "execution_count": 223,
      "metadata": {
        "colab": {
          "base_uri": "https://localhost:8080/",
          "height": 411
        },
        "id": "rX0KiEkUd-ii",
        "outputId": "55869734-f91a-4812-ebe6-5096a944b3c7"
      },
      "outputs": [
        {
          "data": {
            "text/html": [
              "<div>\n",
              "<style scoped>\n",
              "    .dataframe tbody tr th:only-of-type {\n",
              "        vertical-align: middle;\n",
              "    }\n",
              "\n",
              "    .dataframe tbody tr th {\n",
              "        vertical-align: top;\n",
              "    }\n",
              "\n",
              "    .dataframe thead th {\n",
              "        text-align: right;\n",
              "    }\n",
              "</style>\n",
              "<table border=\"1\" class=\"dataframe\">\n",
              "  <thead>\n",
              "    <tr style=\"text-align: right;\">\n",
              "      <th></th>\n",
              "      <th>Rating</th>\n",
              "      <th>Reviews</th>\n",
              "      <th>Size</th>\n",
              "      <th>Installs</th>\n",
              "      <th>Type</th>\n",
              "      <th>Price</th>\n",
              "      <th>Content Rating</th>\n",
              "      <th>ART_AND_DESIGN</th>\n",
              "      <th>AUTO_AND_VEHICLES</th>\n",
              "      <th>BEAUTY</th>\n",
              "      <th>...</th>\n",
              "      <th>PERSONALIZATION</th>\n",
              "      <th>PHOTOGRAPHY</th>\n",
              "      <th>PRODUCTIVITY</th>\n",
              "      <th>SHOPPING</th>\n",
              "      <th>SOCIAL</th>\n",
              "      <th>SPORTS</th>\n",
              "      <th>TOOLS</th>\n",
              "      <th>TRAVEL_AND_LOCAL</th>\n",
              "      <th>VIDEO_PLAYERS</th>\n",
              "      <th>WEATHER</th>\n",
              "    </tr>\n",
              "  </thead>\n",
              "  <tbody>\n",
              "    <tr>\n",
              "      <th>count</th>\n",
              "      <td>9113.000000</td>\n",
              "      <td>9113.000000</td>\n",
              "      <td>9113.000000</td>\n",
              "      <td>9113.000000</td>\n",
              "      <td>9113.000000</td>\n",
              "      <td>9113.000000</td>\n",
              "      <td>9113.000000</td>\n",
              "      <td>9113.000000</td>\n",
              "      <td>9113.000000</td>\n",
              "      <td>9113.000000</td>\n",
              "      <td>...</td>\n",
              "      <td>9113.000000</td>\n",
              "      <td>9113.000000</td>\n",
              "      <td>9113.000000</td>\n",
              "      <td>9113.000000</td>\n",
              "      <td>9113.000000</td>\n",
              "      <td>9113.000000</td>\n",
              "      <td>9113.000000</td>\n",
              "      <td>9113.000000</td>\n",
              "      <td>9113.000000</td>\n",
              "      <td>9113.00000</td>\n",
              "    </tr>\n",
              "    <tr>\n",
              "      <th>mean</th>\n",
              "      <td>0.796340</td>\n",
              "      <td>0.015805</td>\n",
              "      <td>0.033767</td>\n",
              "      <td>0.156006</td>\n",
              "      <td>0.075716</td>\n",
              "      <td>0.016034</td>\n",
              "      <td>0.094200</td>\n",
              "      <td>0.006694</td>\n",
              "      <td>0.009218</td>\n",
              "      <td>0.005816</td>\n",
              "      <td>...</td>\n",
              "      <td>0.039175</td>\n",
              "      <td>0.026117</td>\n",
              "      <td>0.037200</td>\n",
              "      <td>0.020740</td>\n",
              "      <td>0.023922</td>\n",
              "      <td>0.034347</td>\n",
              "      <td>0.084056</td>\n",
              "      <td>0.022934</td>\n",
              "      <td>0.015802</td>\n",
              "      <td>0.00823</td>\n",
              "    </tr>\n",
              "    <tr>\n",
              "      <th>std</th>\n",
              "      <td>0.126258</td>\n",
              "      <td>0.052506</td>\n",
              "      <td>0.088366</td>\n",
              "      <td>0.311203</td>\n",
              "      <td>0.264558</td>\n",
              "      <td>0.073473</td>\n",
              "      <td>0.232868</td>\n",
              "      <td>0.081545</td>\n",
              "      <td>0.095570</td>\n",
              "      <td>0.076044</td>\n",
              "      <td>...</td>\n",
              "      <td>0.194021</td>\n",
              "      <td>0.159491</td>\n",
              "      <td>0.189261</td>\n",
              "      <td>0.142519</td>\n",
              "      <td>0.152814</td>\n",
              "      <td>0.182128</td>\n",
              "      <td>0.277487</td>\n",
              "      <td>0.149702</td>\n",
              "      <td>0.124714</td>\n",
              "      <td>0.09035</td>\n",
              "    </tr>\n",
              "    <tr>\n",
              "      <th>min</th>\n",
              "      <td>0.000000</td>\n",
              "      <td>0.000000</td>\n",
              "      <td>0.000000</td>\n",
              "      <td>0.000000</td>\n",
              "      <td>0.000000</td>\n",
              "      <td>0.000000</td>\n",
              "      <td>0.000000</td>\n",
              "      <td>0.000000</td>\n",
              "      <td>0.000000</td>\n",
              "      <td>0.000000</td>\n",
              "      <td>...</td>\n",
              "      <td>0.000000</td>\n",
              "      <td>0.000000</td>\n",
              "      <td>0.000000</td>\n",
              "      <td>0.000000</td>\n",
              "      <td>0.000000</td>\n",
              "      <td>0.000000</td>\n",
              "      <td>0.000000</td>\n",
              "      <td>0.000000</td>\n",
              "      <td>0.000000</td>\n",
              "      <td>0.00000</td>\n",
              "    </tr>\n",
              "    <tr>\n",
              "      <th>25%</th>\n",
              "      <td>0.750000</td>\n",
              "      <td>0.000007</td>\n",
              "      <td>0.005691</td>\n",
              "      <td>0.000100</td>\n",
              "      <td>0.000000</td>\n",
              "      <td>0.000000</td>\n",
              "      <td>0.000000</td>\n",
              "      <td>0.000000</td>\n",
              "      <td>0.000000</td>\n",
              "      <td>0.000000</td>\n",
              "      <td>...</td>\n",
              "      <td>0.000000</td>\n",
              "      <td>0.000000</td>\n",
              "      <td>0.000000</td>\n",
              "      <td>0.000000</td>\n",
              "      <td>0.000000</td>\n",
              "      <td>0.000000</td>\n",
              "      <td>0.000000</td>\n",
              "      <td>0.000000</td>\n",
              "      <td>0.000000</td>\n",
              "      <td>0.00000</td>\n",
              "    </tr>\n",
              "    <tr>\n",
              "      <th>50%</th>\n",
              "      <td>0.825000</td>\n",
              "      <td>0.000238</td>\n",
              "      <td>0.013937</td>\n",
              "      <td>0.010000</td>\n",
              "      <td>0.000000</td>\n",
              "      <td>0.000000</td>\n",
              "      <td>0.000000</td>\n",
              "      <td>0.000000</td>\n",
              "      <td>0.000000</td>\n",
              "      <td>0.000000</td>\n",
              "      <td>...</td>\n",
              "      <td>0.000000</td>\n",
              "      <td>0.000000</td>\n",
              "      <td>0.000000</td>\n",
              "      <td>0.000000</td>\n",
              "      <td>0.000000</td>\n",
              "      <td>0.000000</td>\n",
              "      <td>0.000000</td>\n",
              "      <td>0.000000</td>\n",
              "      <td>0.000000</td>\n",
              "      <td>0.00000</td>\n",
              "    </tr>\n",
              "    <tr>\n",
              "      <th>75%</th>\n",
              "      <td>0.875000</td>\n",
              "      <td>0.006750</td>\n",
              "      <td>0.030197</td>\n",
              "      <td>0.100000</td>\n",
              "      <td>0.000000</td>\n",
              "      <td>0.000000</td>\n",
              "      <td>0.000000</td>\n",
              "      <td>0.000000</td>\n",
              "      <td>0.000000</td>\n",
              "      <td>0.000000</td>\n",
              "      <td>...</td>\n",
              "      <td>0.000000</td>\n",
              "      <td>0.000000</td>\n",
              "      <td>0.000000</td>\n",
              "      <td>0.000000</td>\n",
              "      <td>0.000000</td>\n",
              "      <td>0.000000</td>\n",
              "      <td>0.000000</td>\n",
              "      <td>0.000000</td>\n",
              "      <td>0.000000</td>\n",
              "      <td>0.00000</td>\n",
              "    </tr>\n",
              "    <tr>\n",
              "      <th>max</th>\n",
              "      <td>1.000000</td>\n",
              "      <td>1.000000</td>\n",
              "      <td>1.000000</td>\n",
              "      <td>1.000000</td>\n",
              "      <td>1.000000</td>\n",
              "      <td>1.000000</td>\n",
              "      <td>1.000000</td>\n",
              "      <td>1.000000</td>\n",
              "      <td>1.000000</td>\n",
              "      <td>1.000000</td>\n",
              "      <td>...</td>\n",
              "      <td>1.000000</td>\n",
              "      <td>1.000000</td>\n",
              "      <td>1.000000</td>\n",
              "      <td>1.000000</td>\n",
              "      <td>1.000000</td>\n",
              "      <td>1.000000</td>\n",
              "      <td>1.000000</td>\n",
              "      <td>1.000000</td>\n",
              "      <td>1.000000</td>\n",
              "      <td>1.00000</td>\n",
              "    </tr>\n",
              "  </tbody>\n",
              "</table>\n",
              "<p>8 rows × 40 columns</p>\n",
              "</div>"
            ],
            "text/plain": [
              "            Rating      Reviews         Size     Installs         Type  \\\n",
              "count  9113.000000  9113.000000  9113.000000  9113.000000  9113.000000   \n",
              "mean      0.796340     0.015805     0.033767     0.156006     0.075716   \n",
              "std       0.126258     0.052506     0.088366     0.311203     0.264558   \n",
              "min       0.000000     0.000000     0.000000     0.000000     0.000000   \n",
              "25%       0.750000     0.000007     0.005691     0.000100     0.000000   \n",
              "50%       0.825000     0.000238     0.013937     0.010000     0.000000   \n",
              "75%       0.875000     0.006750     0.030197     0.100000     0.000000   \n",
              "max       1.000000     1.000000     1.000000     1.000000     1.000000   \n",
              "\n",
              "             Price  Content Rating  ART_AND_DESIGN  AUTO_AND_VEHICLES  \\\n",
              "count  9113.000000     9113.000000     9113.000000        9113.000000   \n",
              "mean      0.016034        0.094200        0.006694           0.009218   \n",
              "std       0.073473        0.232868        0.081545           0.095570   \n",
              "min       0.000000        0.000000        0.000000           0.000000   \n",
              "25%       0.000000        0.000000        0.000000           0.000000   \n",
              "50%       0.000000        0.000000        0.000000           0.000000   \n",
              "75%       0.000000        0.000000        0.000000           0.000000   \n",
              "max       1.000000        1.000000        1.000000           1.000000   \n",
              "\n",
              "            BEAUTY  ...  PERSONALIZATION  PHOTOGRAPHY  PRODUCTIVITY  \\\n",
              "count  9113.000000  ...      9113.000000  9113.000000   9113.000000   \n",
              "mean      0.005816  ...         0.039175     0.026117      0.037200   \n",
              "std       0.076044  ...         0.194021     0.159491      0.189261   \n",
              "min       0.000000  ...         0.000000     0.000000      0.000000   \n",
              "25%       0.000000  ...         0.000000     0.000000      0.000000   \n",
              "50%       0.000000  ...         0.000000     0.000000      0.000000   \n",
              "75%       0.000000  ...         0.000000     0.000000      0.000000   \n",
              "max       1.000000  ...         1.000000     1.000000      1.000000   \n",
              "\n",
              "          SHOPPING       SOCIAL       SPORTS        TOOLS  TRAVEL_AND_LOCAL  \\\n",
              "count  9113.000000  9113.000000  9113.000000  9113.000000       9113.000000   \n",
              "mean      0.020740     0.023922     0.034347     0.084056          0.022934   \n",
              "std       0.142519     0.152814     0.182128     0.277487          0.149702   \n",
              "min       0.000000     0.000000     0.000000     0.000000          0.000000   \n",
              "25%       0.000000     0.000000     0.000000     0.000000          0.000000   \n",
              "50%       0.000000     0.000000     0.000000     0.000000          0.000000   \n",
              "75%       0.000000     0.000000     0.000000     0.000000          0.000000   \n",
              "max       1.000000     1.000000     1.000000     1.000000          1.000000   \n",
              "\n",
              "       VIDEO_PLAYERS     WEATHER  \n",
              "count    9113.000000  9113.00000  \n",
              "mean        0.015802     0.00823  \n",
              "std         0.124714     0.09035  \n",
              "min         0.000000     0.00000  \n",
              "25%         0.000000     0.00000  \n",
              "50%         0.000000     0.00000  \n",
              "75%         0.000000     0.00000  \n",
              "max         1.000000     1.00000  \n",
              "\n",
              "[8 rows x 40 columns]"
            ]
          },
          "execution_count": 223,
          "metadata": {},
          "output_type": "execute_result"
        }
      ],
      "source": [
        "data.describe()"
      ]
    },
    {
      "cell_type": "markdown",
      "metadata": {
        "id": "JbKDCYGlSt6W"
      },
      "source": [
        "Разбиваем наши данные на y и x:"
      ]
    },
    {
      "cell_type": "code",
      "execution_count": 224,
      "metadata": {
        "colab": {
          "base_uri": "https://localhost:8080/"
        },
        "id": "LwSzOwckSt6W",
        "outputId": "6a3784d3-3ca2-472b-ad4b-07f3b4ba7c8b"
      },
      "outputs": [
        {
          "name": "stdout",
          "output_type": "stream",
          "text": [
            "Index(['Rating', 'Reviews', 'Size', 'Installs', 'Content Rating',\n",
            "       'ART_AND_DESIGN', 'AUTO_AND_VEHICLES', 'BEAUTY', 'BOOKS_AND_REFERENCE',\n",
            "       'BUSINESS', 'COMICS', 'COMMUNICATION', 'DATING', 'EDUCATION',\n",
            "       'ENTERTAINMENT', 'EVENTS', 'FAMILY', 'FINANCE', 'FOOD_AND_DRINK',\n",
            "       'GAME', 'HEALTH_AND_FITNESS', 'HOUSE_AND_HOME', 'LIBRARIES_AND_DEMO',\n",
            "       'LIFESTYLE', 'MAPS_AND_NAVIGATION', 'MEDICAL', 'NEWS_AND_MAGAZINES',\n",
            "       'PARENTING', 'PERSONALIZATION', 'PHOTOGRAPHY', 'PRODUCTIVITY',\n",
            "       'SHOPPING', 'SOCIAL', 'SPORTS', 'TOOLS', 'TRAVEL_AND_LOCAL',\n",
            "       'VIDEO_PLAYERS', 'WEATHER'],\n",
            "      dtype='object')\n"
          ]
        }
      ],
      "source": [
        "X = data.drop(['Type', 'Price'], axis = 1)\n",
        "y = data['Type']\n",
        "feature_names = X.columns\n",
        "print(feature_names)"
      ]
    },
    {
      "cell_type": "code",
      "execution_count": 225,
      "metadata": {
        "id": "hQK5HWaQSt6W"
      },
      "outputs": [],
      "source": [
        "X=X.to_numpy()\n",
        "y=y.to_numpy()"
      ]
    },
    {
      "cell_type": "code",
      "execution_count": 226,
      "metadata": {
        "colab": {
          "base_uri": "https://localhost:8080/"
        },
        "id": "UcLLuteLSt6W",
        "outputId": "d7b3a86b-c481-4811-f6df-3b394dda6de2"
      },
      "outputs": [
        {
          "name": "stdout",
          "output_type": "stream",
          "text": [
            "[[7.75000000e-01 5.14004522e-05 2.09059233e-02 ... 0.00000000e+00\n",
            "  0.00000000e+00 0.00000000e+00]\n",
            " [7.25000000e-01 3.12605266e-04 1.50987224e-02 ... 0.00000000e+00\n",
            "  0.00000000e+00 0.00000000e+00]\n",
            " [9.25000000e-01 2.82896451e-02 8.94308943e-03 ... 0.00000000e+00\n",
            "  0.00000000e+00 0.00000000e+00]\n",
            " ...\n",
            " [8.25000000e-01 9.69819853e-07 9.87224158e-03 ... 0.00000000e+00\n",
            "  0.00000000e+00 0.00000000e+00]\n",
            " [8.75000000e-01 3.68531544e-05 1.39372822e-02 ... 0.00000000e+00\n",
            "  0.00000000e+00 0.00000000e+00]\n",
            " [8.75000000e-01 1.28762012e-01 2.09059233e-02 ... 0.00000000e+00\n",
            "  0.00000000e+00 0.00000000e+00]]\n",
            "\n",
            "[0. 0. 0. ... 0. 0. 0.]\n",
            "\n",
            "(9113, 38)\n",
            "\n",
            "(9113,)\n",
            "\n"
          ]
        }
      ],
      "source": [
        "print(X, end=\"\\n\\n\")\n",
        "print(y, end=\"\\n\\n\")\n",
        "print(X.shape, end=\"\\n\\n\")\n",
        "print(y.shape, end=\"\\n\\n\")\n",
        "N, d = X.shape"
      ]
    },
    {
      "cell_type": "markdown",
      "metadata": {
        "id": "i9NQhnbvSt6X"
      },
      "source": [
        "Разделим наш dataset на обучающую и тестовую выборку:"
      ]
    },
    {
      "cell_type": "code",
      "execution_count": 227,
      "metadata": {
        "colab": {
          "base_uri": "https://localhost:8080/"
        },
        "id": "sx41B3URSt6X",
        "outputId": "1d9d1d21-d45d-4873-850b-f201f250aa43"
      },
      "outputs": [
        {
          "name": "stdout",
          "output_type": "stream",
          "text": [
            "Defaulting to user installation because normal site-packages is not writeable\n",
            "Requirement already satisfied: scikit-learn in c:\\users\\nick\\appdata\\roaming\\python\\python310\\site-packages (1.2.0)\n",
            "Requirement already satisfied: scipy>=1.3.2 in c:\\users\\nick\\appdata\\roaming\\python\\python310\\site-packages (from scikit-learn) (1.9.3)\n",
            "Requirement already satisfied: joblib>=1.1.1 in c:\\users\\nick\\appdata\\roaming\\python\\python310\\site-packages (from scikit-learn) (1.2.0)\n",
            "Requirement already satisfied: numpy>=1.17.3 in c:\\program files\\python310\\lib\\site-packages (from scikit-learn) (1.24.0)\n",
            "Requirement already satisfied: threadpoolctl>=2.0.0 in c:\\users\\nick\\appdata\\roaming\\python\\python310\\site-packages (from scikit-learn) (3.1.0)\n"
          ]
        },
        {
          "name": "stderr",
          "output_type": "stream",
          "text": [
            "\n",
            "[notice] A new release of pip available: 22.2.1 -> 22.3.1\n",
            "[notice] To update, run: python.exe -m pip install --upgrade pip\n"
          ]
        }
      ],
      "source": [
        "import sys\n",
        "! pip install scikit-learn"
      ]
    },
    {
      "cell_type": "code",
      "execution_count": 228,
      "metadata": {
        "colab": {
          "base_uri": "https://localhost:8080/"
        },
        "id": "SXnOGU0dSt6X",
        "outputId": "325ea0e0-39bb-4849-a193-eaf842775b0d"
      },
      "outputs": [
        {
          "name": "stdout",
          "output_type": "stream",
          "text": [
            "6379 2734 (6379,) (2734,)\n"
          ]
        }
      ],
      "source": [
        "from sklearn.model_selection import train_test_split\n",
        "X_train, X_test, y_train, y_test = train_test_split(X, y, test_size = 0.3, random_state = 7)\n",
        "\n",
        "N_train, _ = X_train.shape \n",
        "N_test,  _ = X_test.shape \n",
        "\n",
        "N2_train = y_train.shape \n",
        "N2_test = y_test.shape \n",
        "\n",
        "print(N_train, N_test, N2_train, N2_test)"
      ]
    },
    {
      "cell_type": "code",
      "execution_count": 229,
      "metadata": {
        "colab": {
          "base_uri": "https://localhost:8080/"
        },
        "id": "D_S-hWFbSt6X",
        "outputId": "b0ee8e65-fb5c-42b9-c161-ac0d3d4be9b9"
      },
      "outputs": [
        {
          "name": "stdout",
          "output_type": "stream",
          "text": [
            "[]\n",
            "[]\n",
            "(6379, 38)\n",
            "(6379,)\n",
            "(2734, 38)\n",
            "(2734,)\n"
          ]
        }
      ],
      "source": [
        "print(np.argwhere(np.isnan(X_train)))\n",
        "for i, j in np.argwhere(np.isnan(X_train)):\n",
        "    X_train[i][j] = X_train[0][j]\n",
        "\n",
        "print(np.argwhere(np.isnan(X_test)))\n",
        "for i, j in np.argwhere(np.isnan(X_test)):\n",
        "    X_test[i][j] = X_test[0][j]\n",
        "\n",
        "print(X_train.shape)\n",
        "print(y_train.shape)\n",
        "print(X_test.shape)\n",
        "print(y_test.shape)"
      ]
    },
    {
      "cell_type": "markdown",
      "metadata": {
        "id": "BdLtCrIiSt6X"
      },
      "source": [
        "Интерпретируем все значения `y` как целые числа:"
      ]
    },
    {
      "cell_type": "code",
      "execution_count": 230,
      "metadata": {
        "id": "H5SN_ijdSt6X"
      },
      "outputs": [],
      "source": [
        "y_test = y_test.astype(\"int\")\n",
        "y_train = y_train.astype(\"int\")"
      ]
    },
    {
      "cell_type": "markdown",
      "metadata": {
        "id": "gL9QP_-9St6X"
      },
      "source": [
        "## Обучение"
      ]
    },
    {
      "cell_type": "markdown",
      "metadata": {
        "id": "U5wsIaAQSt6X"
      },
      "source": [
        "Попробуем обучить нашу модель с помощью метода `kNN`:"
      ]
    },
    {
      "cell_type": "code",
      "execution_count": 231,
      "metadata": {
        "colab": {
          "base_uri": "https://localhost:8080/"
        },
        "id": "r8maG8ziSt6Y",
        "outputId": "4946d953-424e-4420-e42f-fba86647f4b6"
      },
      "outputs": [
        {
          "data": {
            "text/html": [
              "<style>#sk-container-id-1 {color: black;background-color: white;}#sk-container-id-1 pre{padding: 0;}#sk-container-id-1 div.sk-toggleable {background-color: white;}#sk-container-id-1 label.sk-toggleable__label {cursor: pointer;display: block;width: 100%;margin-bottom: 0;padding: 0.3em;box-sizing: border-box;text-align: center;}#sk-container-id-1 label.sk-toggleable__label-arrow:before {content: \"▸\";float: left;margin-right: 0.25em;color: #696969;}#sk-container-id-1 label.sk-toggleable__label-arrow:hover:before {color: black;}#sk-container-id-1 div.sk-estimator:hover label.sk-toggleable__label-arrow:before {color: black;}#sk-container-id-1 div.sk-toggleable__content {max-height: 0;max-width: 0;overflow: hidden;text-align: left;background-color: #f0f8ff;}#sk-container-id-1 div.sk-toggleable__content pre {margin: 0.2em;color: black;border-radius: 0.25em;background-color: #f0f8ff;}#sk-container-id-1 input.sk-toggleable__control:checked~div.sk-toggleable__content {max-height: 200px;max-width: 100%;overflow: auto;}#sk-container-id-1 input.sk-toggleable__control:checked~label.sk-toggleable__label-arrow:before {content: \"▾\";}#sk-container-id-1 div.sk-estimator input.sk-toggleable__control:checked~label.sk-toggleable__label {background-color: #d4ebff;}#sk-container-id-1 div.sk-label input.sk-toggleable__control:checked~label.sk-toggleable__label {background-color: #d4ebff;}#sk-container-id-1 input.sk-hidden--visually {border: 0;clip: rect(1px 1px 1px 1px);clip: rect(1px, 1px, 1px, 1px);height: 1px;margin: -1px;overflow: hidden;padding: 0;position: absolute;width: 1px;}#sk-container-id-1 div.sk-estimator {font-family: monospace;background-color: #f0f8ff;border: 1px dotted black;border-radius: 0.25em;box-sizing: border-box;margin-bottom: 0.5em;}#sk-container-id-1 div.sk-estimator:hover {background-color: #d4ebff;}#sk-container-id-1 div.sk-parallel-item::after {content: \"\";width: 100%;border-bottom: 1px solid gray;flex-grow: 1;}#sk-container-id-1 div.sk-label:hover label.sk-toggleable__label {background-color: #d4ebff;}#sk-container-id-1 div.sk-serial::before {content: \"\";position: absolute;border-left: 1px solid gray;box-sizing: border-box;top: 0;bottom: 0;left: 50%;z-index: 0;}#sk-container-id-1 div.sk-serial {display: flex;flex-direction: column;align-items: center;background-color: white;padding-right: 0.2em;padding-left: 0.2em;position: relative;}#sk-container-id-1 div.sk-item {position: relative;z-index: 1;}#sk-container-id-1 div.sk-parallel {display: flex;align-items: stretch;justify-content: center;background-color: white;position: relative;}#sk-container-id-1 div.sk-item::before, #sk-container-id-1 div.sk-parallel-item::before {content: \"\";position: absolute;border-left: 1px solid gray;box-sizing: border-box;top: 0;bottom: 0;left: 50%;z-index: -1;}#sk-container-id-1 div.sk-parallel-item {display: flex;flex-direction: column;z-index: 1;position: relative;background-color: white;}#sk-container-id-1 div.sk-parallel-item:first-child::after {align-self: flex-end;width: 50%;}#sk-container-id-1 div.sk-parallel-item:last-child::after {align-self: flex-start;width: 50%;}#sk-container-id-1 div.sk-parallel-item:only-child::after {width: 0;}#sk-container-id-1 div.sk-dashed-wrapped {border: 1px dashed gray;margin: 0 0.4em 0.5em 0.4em;box-sizing: border-box;padding-bottom: 0.4em;background-color: white;}#sk-container-id-1 div.sk-label label {font-family: monospace;font-weight: bold;display: inline-block;line-height: 1.2em;}#sk-container-id-1 div.sk-label-container {text-align: center;}#sk-container-id-1 div.sk-container {/* jupyter's `normalize.less` sets `[hidden] { display: none; }` but bootstrap.min.css set `[hidden] { display: none !important; }` so we also need the `!important` here to be able to override the default hidden behavior on the sphinx rendered scikit-learn.org. See: https://github.com/scikit-learn/scikit-learn/issues/21755 */display: inline-block !important;position: relative;}#sk-container-id-1 div.sk-text-repr-fallback {display: none;}</style><div id=\"sk-container-id-1\" class=\"sk-top-container\"><div class=\"sk-text-repr-fallback\"><pre>KNeighborsClassifier(n_neighbors=10)</pre><b>In a Jupyter environment, please rerun this cell to show the HTML representation or trust the notebook. <br />On GitHub, the HTML representation is unable to render, please try loading this page with nbviewer.org.</b></div><div class=\"sk-container\" hidden><div class=\"sk-item\"><div class=\"sk-estimator sk-toggleable\"><input class=\"sk-toggleable__control sk-hidden--visually\" id=\"sk-estimator-id-1\" type=\"checkbox\" checked><label for=\"sk-estimator-id-1\" class=\"sk-toggleable__label sk-toggleable__label-arrow\">KNeighborsClassifier</label><div class=\"sk-toggleable__content\"><pre>KNeighborsClassifier(n_neighbors=10)</pre></div></div></div></div></div>"
            ],
            "text/plain": [
              "KNeighborsClassifier(n_neighbors=10)"
            ]
          },
          "execution_count": 231,
          "metadata": {},
          "output_type": "execute_result"
        }
      ],
      "source": [
        "from sklearn.neighbors import KNeighborsClassifier\n",
        "\n",
        "knn = KNeighborsClassifier(n_neighbors = 10)\n",
        "knn.fit(X_train, y_train)"
      ]
    },
    {
      "cell_type": "code",
      "execution_count": 232,
      "metadata": {
        "id": "onkqPWWHSt6Y"
      },
      "outputs": [],
      "source": [
        "y_test_predict = knn.predict(X_test)\n",
        "y_train_predict = knn.predict(X_train)\n",
        "err_test  = np.mean(y_test  != y_test_predict)\n",
        "err_train  = np.mean(y_train != y_train_predict)"
      ]
    },
    {
      "cell_type": "code",
      "execution_count": 233,
      "metadata": {
        "colab": {
          "base_uri": "https://localhost:8080/"
        },
        "id": "ziOY72z_St6Y",
        "outputId": "4a50da09-75a5-4cda-e92b-ae57ce31151c"
      },
      "outputs": [
        {
          "name": "stdout",
          "output_type": "stream",
          "text": [
            "0.07399278883837591\n",
            "0.06986100950987564\n"
          ]
        }
      ],
      "source": [
        "print(f\"{err_train}\")\n",
        "print(f\"{err_test}\")"
      ]
    },
    {
      "cell_type": "code",
      "execution_count": 234,
      "metadata": {
        "colab": {
          "base_uri": "https://localhost:8080/"
        },
        "id": "W6APiks9St6Y",
        "outputId": "8b174beb-15c6-4a35-dc85-0830326637d0"
      },
      "outputs": [
        {
          "name": "stdout",
          "output_type": "stream",
          "text": [
            "[[5860   20]\n",
            " [ 452   47]]\n",
            "\n",
            "[[2528   15]\n",
            " [ 176   15]]\n",
            "\n"
          ]
        }
      ],
      "source": [
        "from sklearn.metrics import confusion_matrix\n",
        "\n",
        "print(confusion_matrix(y_train, y_train_predict), end=\"\\n\\n\")\n",
        "print(confusion_matrix(y_test, y_test_predict), end=\"\\n\\n\")"
      ]
    },
    {
      "cell_type": "markdown",
      "metadata": {
        "id": "t-Li2E4oSt6Y"
      },
      "source": [
        "Попробуем теперь подобрать параметры так, чтобы еще сильнее уменьшить ошибку (работает очень медленно):"
      ]
    },
    {
      "cell_type": "markdown",
      "metadata": {
        "id": "AI4plyL_St6Y"
      },
      "source": [
        "Лучший результат достигается при n=3:"
      ]
    },
    {
      "cell_type": "code",
      "execution_count": 235,
      "metadata": {
        "colab": {
          "base_uri": "https://localhost:8080/"
        },
        "id": "V418U0OdSt6Y",
        "outputId": "4462dd4b-e658-4196-8472-0ca5b37b8fbc"
      },
      "outputs": [
        {
          "name": "stdout",
          "output_type": "stream",
          "text": [
            "0.060354287505878665\n",
            "0.08339429407461595\n"
          ]
        }
      ],
      "source": [
        "knn = KNeighborsClassifier(n_neighbors = 3).fit(X_train, y_train)\n",
        "\n",
        "err_train = np.mean(y_train != knn.predict(X_train))\n",
        "err_test  = np.mean(y_test  != knn.predict(X_test))\n",
        "\n",
        "print(f\"{err_train}\")\n",
        "print(f\"{err_test}\")"
      ]
    },
    {
      "attachments": {},
      "cell_type": "markdown",
      "metadata": {
        "id": "rk8aGkRJSt6a"
      },
      "source": [
        "Такую высокую точность для алгоритмов мы получаем, возможно, из за несбалансированности классов, так как беспланых приложений намного больше, чем платных.\n",
        "Во всех случаях ошибка на тестовой выборке оказывалась больше, чем на тренировочной, что может свидетельствовать о некотором переобучении модели.\n",
        "Подводя итог, можно сделать вывод, что \"предобработка\" данных была выполнена успешно и задача классификации решена."
      ]
    },
    {
      "attachments": {},
      "cell_type": "markdown",
      "metadata": {},
      "source": [
        "# Домашнее задание 5"
      ]
    },
    {
      "attachments": {},
      "cell_type": "markdown",
      "metadata": {},
      "source": [
        "## Нейронная сеть"
      ]
    },
    {
      "attachments": {},
      "cell_type": "markdown",
      "metadata": {},
      "source": [
        "### Нейронная сеть с двумя скрытыми слоями, подбор оптимального alpha"
      ]
    },
    {
      "cell_type": "code",
      "execution_count": 236,
      "metadata": {},
      "outputs": [],
      "source": [
        "from sklearn.neural_network import MLPClassifier\n",
        "from sklearn.metrics import accuracy_score"
      ]
    },
    {
      "cell_type": "code",
      "execution_count": 237,
      "metadata": {},
      "outputs": [],
      "source": [
        "alpha_arr = np.logspace(-3, 2, 10)\n",
        "test_err = []\n",
        "train_err = []\n",
        "train_acc = []\n",
        "test_acc = []\n",
        "\n",
        "for alpha in alpha_arr:\n",
        "    mlp_model = MLPClassifier(alpha = alpha, hidden_layer_sizes = (50,50,), \n",
        "                              solver = 'adam',\n",
        "                              activation = 'relu',\n",
        "                              max_iter=1000,\n",
        "                              random_state = 1)\n",
        "    mlp_model.fit(X_train, y_train)\n",
        "\n",
        "    y_train_pred = mlp_model.predict(X_train)\n",
        "    y_test_pred = mlp_model.predict(X_test)\n",
        "    \n",
        "    train_err.append(np.mean(y_train != y_train_pred))\n",
        "    test_err.append(np.mean(y_test != y_test_pred))\n",
        "    train_acc.append(accuracy_score(y_train, y_train_pred))\n",
        "    test_acc.append(accuracy_score(y_test, y_test_pred))"
      ]
    },
    {
      "cell_type": "code",
      "execution_count": 238,
      "metadata": {},
      "outputs": [
        {
          "data": {
            "text/plain": [
              "<matplotlib.legend.Legend at 0x22323c83a30>"
            ]
          },
          "execution_count": 238,
          "metadata": {},
          "output_type": "execute_result"
        },
        {
          "data": {
            "image/png": "[encoded data removed]",
            "text/plain": [
              "<Figure size 640x480 with 1 Axes>"
            ]
          },
          "metadata": {},
          "output_type": "display_data"
        }
      ],
      "source": [
        "plt.semilogx(alpha_arr, train_err, 'b-o', label = 'train')\n",
        "plt.semilogx(alpha_arr, test_err, 'r-o', label = 'test')\n",
        "plt.xlim([np.min(alpha_arr), np.max(alpha_arr)])\n",
        "plt.title('Error vs. alpha')\n",
        "plt.xlabel('alpha')\n",
        "plt.ylabel('error')\n",
        "plt.legend()"
      ]
    },
    {
      "cell_type": "code",
      "execution_count": 239,
      "metadata": {},
      "outputs": [
        {
          "data": {
            "text/plain": [
              "<matplotlib.legend.Legend at 0x2235269d5a0>"
            ]
          },
          "execution_count": 239,
          "metadata": {},
          "output_type": "execute_result"
        },
        {
          "data": {
            "image/png": "[encoded data removed]",
            "text/plain": [
              "<Figure size 640x480 with 1 Axes>"
            ]
          },
          "metadata": {},
          "output_type": "display_data"
        }
      ],
      "source": [
        "plt.semilogx(alpha_arr, train_acc, 'b-o', label = 'train')\n",
        "plt.semilogx(alpha_arr, test_acc, 'r-o', label = 'test')\n",
        "plt.xlim([np.min(alpha_arr), np.max(alpha_arr)])\n",
        "plt.title('Accuracy vs. alpha')\n",
        "plt.xlabel('alpha')\n",
        "plt.ylabel('Accuracy')\n",
        "plt.legend()"
      ]
    },
    {
      "cell_type": "code",
      "execution_count": 240,
      "metadata": {},
      "outputs": [
        {
          "name": "stdout",
          "output_type": "stream",
          "text": [
            "0.07430631760464022 0.06839795171909291\n"
          ]
        }
      ],
      "source": [
        "min_train_err = np.min(train_err)\n",
        "min_test_err = np.min(test_err)\n",
        "print(min_train_err, min_test_err)"
      ]
    },
    {
      "attachments": {},
      "cell_type": "markdown",
      "metadata": {},
      "source": [
        "#### Выбираем alpha"
      ]
    },
    {
      "cell_type": "code",
      "execution_count": 241,
      "metadata": {},
      "outputs": [
        {
          "name": "stdout",
          "output_type": "stream",
          "text": [
            "[0.00359381]\n"
          ]
        }
      ],
      "source": [
        "alpha_opt = alpha_arr[test_err == min_test_err]\n",
        "print(alpha_opt)"
      ]
    },
    {
      "cell_type": "code",
      "execution_count": 242,
      "metadata": {},
      "outputs": [
        {
          "name": "stdout",
          "output_type": "stream",
          "text": [
            "0.07446308198777238\n",
            "0.06986100950987564\n"
          ]
        },
        {
          "name": "stderr",
          "output_type": "stream",
          "text": [
            "C:\\Users\\Nick\\AppData\\Roaming\\Python\\Python310\\site-packages\\sklearn\\neural_network\\_multilayer_perceptron.py:679: ConvergenceWarning: Stochastic Optimizer: Maximum iterations (200) reached and the optimization hasn't converged yet.\n",
            "  warnings.warn(\n"
          ]
        }
      ],
      "source": [
        "mlp_model = MLPClassifier(alpha = alpha_opt[0], hidden_layer_sizes = (50,50,),\n",
        "                          solver = 'adam', activation = 'relu', random_state = 42)\n",
        "mlp_model.fit(X_train, y_train)\n",
        "\n",
        "y_train_pred = mlp_model.predict(X_train)\n",
        "y_test_pred = mlp_model.predict(X_test)\n",
        "print(np.mean(y_train != y_train_pred))\n",
        "print(np.mean(y_test != y_test_pred))"
      ]
    },
    {
      "cell_type": "code",
      "execution_count": 243,
      "metadata": {},
      "outputs": [
        {
          "name": "stdout",
          "output_type": "stream",
          "text": [
            "[[2528  176]\n",
            " [  15   15]]\n"
          ]
        }
      ],
      "source": [
        "from sklearn.metrics import confusion_matrix\n",
        "print(confusion_matrix(y_test_pred, y_test))"
      ]
    },
    {
      "cell_type": "code",
      "execution_count": 244,
      "metadata": {},
      "outputs": [
        {
          "data": {
            "image/png": "[encoded data removed]",
            "text/plain": [
              "<Figure size 640x480 with 2 Axes>"
            ]
          },
          "metadata": {},
          "output_type": "display_data"
        }
      ],
      "source": [
        "M = confusion_matrix(y_test_pred, y_test)\n",
        "M = np.sqrt(M)\n",
        "plt.imshow(M, interpolation = 'nearest')\n",
        "plt.set_cmap('binary')\n",
        "plt.xticks(range(4))\n",
        "plt.yticks(range(4))\n",
        "plt.xlabel(\"true label\")\n",
        "plt.ylabel(\"predicted label\")\n",
        "plt.colorbar()\n",
        "pass"
      ]
    },
    {
      "cell_type": "code",
      "execution_count": 245,
      "metadata": {},
      "outputs": [],
      "source": [
        "from sklearn.metrics import ConfusionMatrixDisplay\n",
        "from sklearn.metrics import classification_report"
      ]
    },
    {
      "cell_type": "code",
      "execution_count": 246,
      "metadata": {},
      "outputs": [
        {
          "data": {
            "image/png": "[encoded data removed]",
            "text/plain": [
              "<Figure size 640x480 with 2 Axes>"
            ]
          },
          "metadata": {},
          "output_type": "display_data"
        }
      ],
      "source": [
        "cm = confusion_matrix(y_test, y_test_predict)\n",
        "disp = ConfusionMatrixDisplay(confusion_matrix=cm)\n",
        "disp.plot()\n",
        "plt.show()"
      ]
    },
    {
      "cell_type": "code",
      "execution_count": 247,
      "metadata": {},
      "outputs": [
        {
          "name": "stdout",
          "output_type": "stream",
          "text": [
            "              precision    recall  f1-score   support\n",
            "\n",
            "           0       0.93      0.99      0.96      2543\n",
            "           1       0.50      0.08      0.14       191\n",
            "\n",
            "    accuracy                           0.93      2734\n",
            "   macro avg       0.72      0.54      0.55      2734\n",
            "weighted avg       0.90      0.93      0.91      2734\n",
            "\n"
          ]
        }
      ],
      "source": [
        "print(classification_report(y_test, y_test_pred))"
      ]
    },
    {
      "attachments": {},
      "cell_type": "markdown",
      "metadata": {},
      "source": [
        "### Подбор числа нейронов и альфа"
      ]
    },
    {
      "cell_type": "code",
      "execution_count": 248,
      "metadata": {},
      "outputs": [],
      "source": [
        "num_elems_arr = [x for x in range(10, 101, 10)]\n",
        "alpha_arr = np.logspace(-3, 2, 11)\n",
        "test_err = []\n",
        "train_err = []\n",
        "train_acc = []\n",
        "test_acc = []\n",
        "\n",
        "alpha_opts = []\n",
        "min_test_errors = []\n",
        "min_train_errors = []\n",
        "min_test_accuracy = []\n",
        "min_train_accuracy = []\n",
        "\n",
        "for index, num_elems in enumerate(num_elems_arr):\n",
        "    test_err.append(np.array([]))\n",
        "    train_err.append(np.array([]))\n",
        "    train_acc.append(np.array([]))\n",
        "    test_acc.append(np.array([]))\n",
        "    for alpha in alpha_arr:\n",
        "        mlp_model = MLPClassifier(alpha = alpha, hidden_layer_sizes = (num_elems,), \n",
        "                              solver = 'adam', activation = 'relu', max_iter=1000, random_state = 42)\n",
        "        mlp_model.fit(X_train, y_train)\n",
        "        y_train_pred = mlp_model.predict(X_train)\n",
        "        y_test_pred = mlp_model.predict(X_test)\n",
        "        train_err[index] = np.append(train_err[index], np.mean(y_train != y_train_pred))\n",
        "        test_err[index] = np.append(test_err[index], np.mean(y_test != y_test_pred))\n",
        "        train_acc[index] = np.append(train_acc[index], accuracy_score(y_train, y_train_pred))\n",
        "        test_acc[index] = np.append(test_acc[index], accuracy_score(y_test, y_test_pred))\n",
        "        \n",
        "    min_test_err = np.min(test_err[index])\n",
        "    alpha_opts.append(alpha_arr[test_err[index] == min_test_err])\n",
        "    min_test_errors.append(min_test_err)\n",
        "    tmp = test_err[index] == min_test_err\n",
        "    min_train_errors.append(train_err[index][test_err[index] == min_test_err][0])\n",
        "    min_test_accuracy.append(test_acc[index][test_err[index] == min_test_err][0])\n",
        "    min_train_accuracy.append(train_acc[index][test_err[index] == min_test_err][0])"
      ]
    },
    {
      "cell_type": "code",
      "execution_count": 249,
      "metadata": {},
      "outputs": [
        {
          "data": {
            "text/plain": [
              "<matplotlib.legend.Legend at 0x22351c40130>"
            ]
          },
          "execution_count": 249,
          "metadata": {},
          "output_type": "execute_result"
        },
        {
          "data": {
            "image/png": "[encoded data removed]",
            "text/plain": [
              "<Figure size 640x480 with 1 Axes>"
            ]
          },
          "metadata": {},
          "output_type": "display_data"
        }
      ],
      "source": [
        "plt.semilogx(num_elems_arr, min_train_errors, 'b-o', label = 'train')\n",
        "plt.semilogx(num_elems_arr, min_test_errors, 'r-o', label = 'test')\n",
        "plt.xlim([np.min(num_elems_arr), np.max(num_elems_arr)])\n",
        "plt.title('Error vs. number_of_elements')\n",
        "plt.xlabel('num_elems')\n",
        "plt.ylabel('error')\n",
        "plt.legend()"
      ]
    },
    {
      "cell_type": "code",
      "execution_count": 250,
      "metadata": {},
      "outputs": [
        {
          "data": {
            "text/plain": [
              "<matplotlib.legend.Legend at 0x22351c68070>"
            ]
          },
          "execution_count": 250,
          "metadata": {},
          "output_type": "execute_result"
        },
        {
          "data": {
            "image/png": "[encoded data removed]",
            "text/plain": [
              "<Figure size 640x480 with 1 Axes>"
            ]
          },
          "metadata": {},
          "output_type": "display_data"
        }
      ],
      "source": [
        "plt.semilogx(num_elems_arr, min_train_accuracy, 'r-o', label = 'train')\n",
        "plt.semilogx(num_elems_arr, min_test_accuracy, 'b-o', label = 'test')\n",
        "plt.xlim([np.min(num_elems_arr), np.max(num_elems_arr)])\n",
        "plt.title('Accuracy vs. number_of_elements')\n",
        "plt.xlabel('number_of_elements')\n",
        "plt.ylabel('Accuracy')\n",
        "plt.legend()"
      ]
    },
    {
      "cell_type": "code",
      "execution_count": 251,
      "metadata": {},
      "outputs": [
        {
          "name": "stdout",
          "output_type": "stream",
          "text": [
            "0.06912948061448428\n",
            "[0.001]\n"
          ]
        }
      ],
      "source": [
        "print(min_test_errors[5])\n",
        "print(alpha_opts[5])"
      ]
    },
    {
      "attachments": {},
      "cell_type": "markdown",
      "metadata": {},
      "source": [
        "Вывод: лучший результат в 6.9% был достигнут при alpha = 0.001 и количестве нейронов 100"
      ]
    },
    {
      "attachments": {},
      "cell_type": "markdown",
      "metadata": {},
      "source": [
        "## Random forest classifier"
      ]
    },
    {
      "cell_type": "code",
      "execution_count": 252,
      "metadata": {},
      "outputs": [
        {
          "name": "stdout",
          "output_type": "stream",
          "text": [
            "n_estimators =  25\n",
            "err_train: 0.0023514657469822856\n",
            "err_test: 0.06108266276517922\n",
            "---------\n",
            "n_estimators =  50\n",
            "err_train: 0.0010973506819250665\n",
            "err_test: 0.061814191660570596\n",
            "---------\n",
            "n_estimators =  75\n",
            "err_train: 0.00031352876626430476\n",
            "err_test: 0.0592538405267008\n",
            "---------\n",
            "n_estimators =  100\n",
            "err_train: 0.00031352876626430476\n",
            "err_test: 0.061448427212874905\n",
            "---------\n",
            "n_estimators =  125\n",
            "err_train: 0.00031352876626430476\n",
            "err_test: 0.05998536942209217\n",
            "---------\n",
            "n_estimators =  150\n",
            "err_train: 0.00031352876626430476\n",
            "err_test: 0.05998536942209217\n",
            "---------\n",
            "n_estimators =  175\n",
            "err_train: 0.00031352876626430476\n",
            "err_test: 0.060351133869787854\n",
            "---------\n",
            "n_estimators =  200\n",
            "err_train: 0.00031352876626430476\n",
            "err_test: 0.05888807607900512\n",
            "---------\n",
            "best: 0.00031352876626430476 0.05888807607900512\n"
          ]
        }
      ],
      "source": [
        "from sklearn.ensemble import RandomForestClassifier\n",
        "\n",
        "from sklearn.ensemble import GradientBoostingClassifier\n",
        "\n",
        "err_train_best = 100500\n",
        "err_test_best = 100500\n",
        "y_predict_best = []\n",
        "\n",
        "train_errors = []\n",
        "test_errors = []\n",
        "\n",
        "\n",
        "est_vals = [x for x in range(25,201,25)]\n",
        "\n",
        "for i in est_vals:\n",
        "    rfc = RandomForestClassifier(n_estimators=i)\n",
        "    rfc.fit(X_train, y_train)\n",
        "\n",
        "    y_test_predict = rfc.predict(X_test)\n",
        "    err_train = np.mean(y_train != rfc.predict(X_train))\n",
        "    err_test  = np.mean(y_test  != y_test_predict)\n",
        "    if err_test < err_test_best:\n",
        "        err_test_best = err_test\n",
        "        err_train_best = err_train\n",
        "        y_predict_best = y_test_predict\n",
        "    \n",
        "    train_errors.append(err_train)\n",
        "    test_errors.append(err_test)\n",
        "    print(\"n_estimators = \", i)\n",
        "    print(\"err_train:\", err_train)\n",
        "    print(\"err_test:\", err_test)\n",
        "    print(\"---------\")\n",
        "print(\"best:\", err_train_best, err_test_best)"
      ]
    },
    {
      "cell_type": "code",
      "execution_count": 253,
      "metadata": {},
      "outputs": [
        {
          "data": {
            "text/plain": [
              "Text(0, 0.5, 'error')"
            ]
          },
          "execution_count": 253,
          "metadata": {},
          "output_type": "execute_result"
        },
        {
          "data": {
            "image/png": "[encoded data removed]",
            "text/plain": [
              "<Figure size 640x480 with 1 Axes>"
            ]
          },
          "metadata": {},
          "output_type": "display_data"
        }
      ],
      "source": [
        "plt.semilogx(est_vals, train_errors, 'b-o', label = 'train')\n",
        "plt.semilogx(est_vals, test_errors, 'r-o', label = 'test')\n",
        "plt.title('n_estimators vs. error')\n",
        "plt.xlabel('n_estimators')\n",
        "plt.ylabel('error')"
      ]
    },
    {
      "cell_type": "code",
      "execution_count": 254,
      "metadata": {},
      "outputs": [
        {
          "name": "stdout",
          "output_type": "stream",
          "text": [
            "[[2524  151]\n",
            " [  19   40]]\n",
            "              precision    recall  f1-score   support\n",
            "\n",
            "           0       0.93      1.00      0.96      2543\n",
            "           1       0.00      0.00      0.00       191\n",
            "\n",
            "    accuracy                           0.93      2734\n",
            "   macro avg       0.47      0.50      0.48      2734\n",
            "weighted avg       0.87      0.93      0.90      2734\n",
            "\n"
          ]
        },
        {
          "name": "stderr",
          "output_type": "stream",
          "text": [
            "C:\\Users\\Nick\\AppData\\Roaming\\Python\\Python310\\site-packages\\sklearn\\metrics\\_classification.py:1344: UndefinedMetricWarning: Precision and F-score are ill-defined and being set to 0.0 in labels with no predicted samples. Use `zero_division` parameter to control this behavior.\n",
            "  _warn_prf(average, modifier, msg_start, len(result))\n",
            "C:\\Users\\Nick\\AppData\\Roaming\\Python\\Python310\\site-packages\\sklearn\\metrics\\_classification.py:1344: UndefinedMetricWarning: Precision and F-score are ill-defined and being set to 0.0 in labels with no predicted samples. Use `zero_division` parameter to control this behavior.\n",
            "  _warn_prf(average, modifier, msg_start, len(result))\n",
            "C:\\Users\\Nick\\AppData\\Roaming\\Python\\Python310\\site-packages\\sklearn\\metrics\\_classification.py:1344: UndefinedMetricWarning: Precision and F-score are ill-defined and being set to 0.0 in labels with no predicted samples. Use `zero_division` parameter to control this behavior.\n",
            "  _warn_prf(average, modifier, msg_start, len(result))\n"
          ]
        }
      ],
      "source": [
        "rfc = RandomForestClassifier(n_estimators=75)\n",
        "rfc.fit(X_train, y_train)\n",
        "\n",
        "y_test_predict = rfc.predict(X_test)\n",
        "err_train = np.mean(y_train != rfc.predict(X_train))\n",
        "err_test  = np.mean(y_test  != y_test_predict)\n",
        "\n",
        "print(confusion_matrix(y_test_predict, y_test))\n",
        "print(classification_report(y_test, y_test_pred))"
      ]
    },
    {
      "attachments": {},
      "cell_type": "markdown",
      "metadata": {},
      "source": [
        "Самый лучший результат для Random forest classifier - 3% ошибки на тестовой выборке."
      ]
    },
    {
      "attachments": {},
      "cell_type": "markdown",
      "metadata": {},
      "source": [
        "## Логистическая регрессия"
      ]
    },
    {
      "cell_type": "code",
      "execution_count": 255,
      "metadata": {},
      "outputs": [
        {
          "name": "stdout",
          "output_type": "stream",
          "text": [
            "err_train=0.07822542718294404\n",
            "err_test=0.06986100950987564\n",
            "\n",
            "[[2543  191]\n",
            " [   0    0]]\n",
            "              precision    recall  f1-score   support\n",
            "\n",
            "           0       0.93      1.00      0.96      2543\n",
            "           1       0.00      0.00      0.00       191\n",
            "\n",
            "    accuracy                           0.93      2734\n",
            "   macro avg       0.47      0.50      0.48      2734\n",
            "weighted avg       0.87      0.93      0.90      2734\n",
            "\n"
          ]
        },
        {
          "name": "stderr",
          "output_type": "stream",
          "text": [
            "C:\\Users\\Nick\\AppData\\Roaming\\Python\\Python310\\site-packages\\sklearn\\metrics\\_classification.py:1344: UndefinedMetricWarning: Precision and F-score are ill-defined and being set to 0.0 in labels with no predicted samples. Use `zero_division` parameter to control this behavior.\n",
            "  _warn_prf(average, modifier, msg_start, len(result))\n",
            "C:\\Users\\Nick\\AppData\\Roaming\\Python\\Python310\\site-packages\\sklearn\\metrics\\_classification.py:1344: UndefinedMetricWarning: Precision and F-score are ill-defined and being set to 0.0 in labels with no predicted samples. Use `zero_division` parameter to control this behavior.\n",
            "  _warn_prf(average, modifier, msg_start, len(result))\n",
            "C:\\Users\\Nick\\AppData\\Roaming\\Python\\Python310\\site-packages\\sklearn\\metrics\\_classification.py:1344: UndefinedMetricWarning: Precision and F-score are ill-defined and being set to 0.0 in labels with no predicted samples. Use `zero_division` parameter to control this behavior.\n",
            "  _warn_prf(average, modifier, msg_start, len(result))\n"
          ]
        }
      ],
      "source": [
        "from sklearn.metrics import confusion_matrix\n",
        "from sklearn.metrics import classification_report\n",
        "from sklearn.linear_model import LogisticRegression\n",
        "\n",
        "clf = LogisticRegression(solver=\"liblinear\")\n",
        "clf.fit(X_train, y_train)\n",
        "\n",
        "y_test_predict = clf.predict(X_test)\n",
        "y_train_predict = clf.predict(X_train)\n",
        "\n",
        "err_test  = np.mean(y_test  != y_test_predict)\n",
        "err_train  = np.mean(y_train != y_train_predict)\n",
        "\n",
        "print(f\"{err_train=}\")\n",
        "print(f\"{err_test=}\", end=\"\\n\\n\")\n",
        "\n",
        "print(confusion_matrix(y_test_predict, y_test))\n",
        "print(classification_report(y_test, y_test_predict))"
      ]
    },
    {
      "attachments": {},
      "cell_type": "markdown",
      "metadata": {},
      "source": [
        "Результат: ошибка в 7%"
      ]
    },
    {
      "attachments": {},
      "cell_type": "markdown",
      "metadata": {},
      "source": [
        "## Общие выводы"
      ]
    },
    {
      "attachments": {},
      "cell_type": "markdown",
      "metadata": {},
      "source": [
        "* Самый лучший результат показал метод Random forest classifier с ошибкой в 3%\n",
        "* Модель подвержена переобученности\n",
        "* Лучше всего было использовать Random forest из-за простоты подбора параметра и скорости работы\n",
        "* Random forest сумел обойти kNN на 5%"
      ]
    }
  ],
  "metadata": {
    "colab": {
      "collapsed_sections": [],
      "provenance": []
    },
    "kernelspec": {
      "display_name": "Python 3",
      "language": "python",
      "name": "python3"
    },
    "language_info": {
      "codemirror_mode": {
        "name": "ipython",
        "version": 3
      },
      "file_extension": ".py",
      "mimetype": "text/x-python",
      "name": "python",
      "nbconvert_exporter": "python",
      "pygments_lexer": "ipython3",
      "version": "3.10.6"
    },
    "orig_nbformat": 4,
    "vscode": {
      "interpreter": {
        "hash": "26de051ba29f2982a8de78e945f0abaf191376122a1563185a90213a26c5da77"
      }
    }
  },
  "nbformat": 4,
  "nbformat_minor": 0
}
